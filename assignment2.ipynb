{
 "cells": [
  {
   "cell_type": "markdown",
   "id": "29b628d6-40d3-4b0a-ae93-bccf1312ef8f",
   "metadata": {},
   "source": [
    "Perform the following operations using Python by creating student performance dataset.\n",
    "\n",
    "    1 Display Missing Values\n",
    "    2 Replace missing values using any 2 suitable methods\n",
    "    3 Identify outliers using boxplot and scatterplot\n",
    "    4 Handle outlier using any technique\n",
    "    5 Perform any 2 data normalization technique"
   ]
  },
  {
   "cell_type": "code",
   "execution_count": 16,
   "id": "b8ac0682-9e6c-4834-8adf-b7973ab5193e",
   "metadata": {},
   "outputs": [
    {
     "data": {
      "text/html": [
       "<div>\n",
       "<style scoped>\n",
       "    .dataframe tbody tr th:only-of-type {\n",
       "        vertical-align: middle;\n",
       "    }\n",
       "\n",
       "    .dataframe tbody tr th {\n",
       "        vertical-align: top;\n",
       "    }\n",
       "\n",
       "    .dataframe thead th {\n",
       "        text-align: right;\n",
       "    }\n",
       "</style>\n",
       "<table border=\"1\" class=\"dataframe\">\n",
       "  <thead>\n",
       "    <tr style=\"text-align: right;\">\n",
       "      <th></th>\n",
       "      <th>Roll</th>\n",
       "      <th>Name</th>\n",
       "      <th>Femarks</th>\n",
       "      <th>SEMarks</th>\n",
       "      <th>Temarks</th>\n",
       "      <th>Bemarks</th>\n",
       "    </tr>\n",
       "  </thead>\n",
       "  <tbody>\n",
       "    <tr>\n",
       "      <th>0</th>\n",
       "      <td>1</td>\n",
       "      <td>Aage Raksha Gajanan</td>\n",
       "      <td>8.40</td>\n",
       "      <td>8.60</td>\n",
       "      <td>9.80</td>\n",
       "      <td>9.90</td>\n",
       "    </tr>\n",
       "    <tr>\n",
       "      <th>1</th>\n",
       "      <td>2</td>\n",
       "      <td>Ahire Anuja Sanjay</td>\n",
       "      <td>8.14</td>\n",
       "      <td>8.14</td>\n",
       "      <td>9.32</td>\n",
       "      <td>9.82</td>\n",
       "    </tr>\n",
       "    <tr>\n",
       "      <th>2</th>\n",
       "      <td>3</td>\n",
       "      <td>Ajare Ashiya Nasaruddin</td>\n",
       "      <td>6.61</td>\n",
       "      <td>6.61</td>\n",
       "      <td>9.14</td>\n",
       "      <td>9.14</td>\n",
       "    </tr>\n",
       "    <tr>\n",
       "      <th>3</th>\n",
       "      <td>4</td>\n",
       "      <td>Amrutkar Roshani Suresh</td>\n",
       "      <td>7.20</td>\n",
       "      <td>7.30</td>\n",
       "      <td>8.90</td>\n",
       "      <td>NaN</td>\n",
       "    </tr>\n",
       "    <tr>\n",
       "      <th>4</th>\n",
       "      <td>5</td>\n",
       "      <td>Attarde Komal Bhagwan</td>\n",
       "      <td>7.05</td>\n",
       "      <td>7.45</td>\n",
       "      <td>9.05</td>\n",
       "      <td>9.40</td>\n",
       "    </tr>\n",
       "  </tbody>\n",
       "</table>\n",
       "</div>"
      ],
      "text/plain": [
       "   Roll                     Name  Femarks  SEMarks  Temarks  Bemarks\n",
       "0     1      Aage Raksha Gajanan     8.40     8.60     9.80     9.90\n",
       "1     2       Ahire Anuja Sanjay     8.14     8.14     9.32     9.82\n",
       "2     3  Ajare Ashiya Nasaruddin     6.61     6.61     9.14     9.14\n",
       "3     4  Amrutkar Roshani Suresh     7.20     7.30     8.90      NaN\n",
       "4     5    Attarde Komal Bhagwan     7.05     7.45     9.05     9.40"
      ]
     },
     "execution_count": 16,
     "metadata": {},
     "output_type": "execute_result"
    }
   ],
   "source": [
    "import pandas as pd\n",
    "import numpy as np\n",
    "import matplotlib.pyplot as plt\n",
    "import seaborn as sns\n",
    "%matplotlib inline\n",
    "\n",
    "df = pd.read_csv('academicperformance.csv')\n",
    "df.head()"
   ]
  },
  {
   "cell_type": "code",
   "execution_count": 17,
   "id": "e98946d4-ffbc-40ef-8a0e-119c7cc8979d",
   "metadata": {},
   "outputs": [
    {
     "name": "stdout",
     "output_type": "stream",
     "text": [
      "<class 'pandas.core.frame.DataFrame'>\n",
      "RangeIndex: 60 entries, 0 to 59\n",
      "Data columns (total 6 columns):\n",
      " #   Column   Non-Null Count  Dtype  \n",
      "---  ------   --------------  -----  \n",
      " 0   Roll     60 non-null     int64  \n",
      " 1   Name     60 non-null     object \n",
      " 2   Femarks  58 non-null     float64\n",
      " 3   SEMarks  57 non-null     float64\n",
      " 4   Temarks  59 non-null     float64\n",
      " 5   Bemarks  58 non-null     float64\n",
      "dtypes: float64(4), int64(1), object(1)\n",
      "memory usage: 2.9+ KB\n"
     ]
    },
    {
     "data": {
      "text/plain": [
       "Index(['Roll', 'Name', 'Femarks', 'SEMarks', 'Temarks', 'Bemarks'], dtype='object')"
      ]
     },
     "execution_count": 17,
     "metadata": {},
     "output_type": "execute_result"
    }
   ],
   "source": [
    "df.info()\n",
    "df.describe()\n",
    "df.shape\n",
    "df.columns"
   ]
  },
  {
   "cell_type": "markdown",
   "id": "48627ffa-5239-454d-ac20-7f6c59739eab",
   "metadata": {},
   "source": [
    "## Display Missing Values"
   ]
  },
  {
   "cell_type": "code",
   "execution_count": 21,
   "id": "4678656d-ef9c-45a6-9aad-1bf427a6664d",
   "metadata": {},
   "outputs": [
    {
     "data": {
      "text/html": [
       "<div>\n",
       "<style scoped>\n",
       "    .dataframe tbody tr th:only-of-type {\n",
       "        vertical-align: middle;\n",
       "    }\n",
       "\n",
       "    .dataframe tbody tr th {\n",
       "        vertical-align: top;\n",
       "    }\n",
       "\n",
       "    .dataframe thead th {\n",
       "        text-align: right;\n",
       "    }\n",
       "</style>\n",
       "<table border=\"1\" class=\"dataframe\">\n",
       "  <thead>\n",
       "    <tr style=\"text-align: right;\">\n",
       "      <th></th>\n",
       "      <th>Roll</th>\n",
       "      <th>Name</th>\n",
       "      <th>Femarks</th>\n",
       "      <th>SEMarks</th>\n",
       "      <th>Temarks</th>\n",
       "      <th>Bemarks</th>\n",
       "    </tr>\n",
       "  </thead>\n",
       "  <tbody>\n",
       "    <tr>\n",
       "      <th>5</th>\n",
       "      <td>6</td>\n",
       "      <td>Avhad Pushkaraj Laxmikant</td>\n",
       "      <td>NaN</td>\n",
       "      <td>8.0</td>\n",
       "      <td>7.91</td>\n",
       "      <td>7.84</td>\n",
       "    </tr>\n",
       "    <tr>\n",
       "      <th>39</th>\n",
       "      <td>40</td>\n",
       "      <td>Mahale Shreya Sanjay</td>\n",
       "      <td>NaN</td>\n",
       "      <td>0.0</td>\n",
       "      <td>9.86</td>\n",
       "      <td>9.91</td>\n",
       "    </tr>\n",
       "  </tbody>\n",
       "</table>\n",
       "</div>"
      ],
      "text/plain": [
       "    Roll                       Name  Femarks  SEMarks  Temarks  Bemarks\n",
       "5      6  Avhad Pushkaraj Laxmikant      NaN      8.0     7.91     7.84\n",
       "39    40       Mahale Shreya Sanjay      NaN      0.0     9.86     9.91"
      ]
     },
     "execution_count": 21,
     "metadata": {},
     "output_type": "execute_result"
    }
   ],
   "source": [
    "df.isnull().sum()\n",
    "fe=pd.isnull(df['Femarks'])\n",
    "df[fe]"
   ]
  },
  {
   "cell_type": "code",
   "execution_count": 22,
   "id": "4f0af3fa-22e0-4534-abf4-78a7dee5bbaf",
   "metadata": {},
   "outputs": [
    {
     "data": {
      "text/html": [
       "<div>\n",
       "<style scoped>\n",
       "    .dataframe tbody tr th:only-of-type {\n",
       "        vertical-align: middle;\n",
       "    }\n",
       "\n",
       "    .dataframe tbody tr th {\n",
       "        vertical-align: top;\n",
       "    }\n",
       "\n",
       "    .dataframe thead th {\n",
       "        text-align: right;\n",
       "    }\n",
       "</style>\n",
       "<table border=\"1\" class=\"dataframe\">\n",
       "  <thead>\n",
       "    <tr style=\"text-align: right;\">\n",
       "      <th></th>\n",
       "      <th>Roll</th>\n",
       "      <th>Name</th>\n",
       "      <th>Femarks</th>\n",
       "      <th>SEMarks</th>\n",
       "      <th>Temarks</th>\n",
       "      <th>Bemarks</th>\n",
       "    </tr>\n",
       "  </thead>\n",
       "  <tbody>\n",
       "    <tr>\n",
       "      <th>15</th>\n",
       "      <td>16</td>\n",
       "      <td>Chavhan Divya Bhikan</td>\n",
       "      <td>8.04</td>\n",
       "      <td>NaN</td>\n",
       "      <td>9.59</td>\n",
       "      <td>9.66</td>\n",
       "    </tr>\n",
       "    <tr>\n",
       "      <th>45</th>\n",
       "      <td>46</td>\n",
       "      <td>Patel Jaid Aslam</td>\n",
       "      <td>0.00</td>\n",
       "      <td>NaN</td>\n",
       "      <td>8.50</td>\n",
       "      <td>9.14</td>\n",
       "    </tr>\n",
       "    <tr>\n",
       "      <th>58</th>\n",
       "      <td>59</td>\n",
       "      <td>Ratnaparkhi Raj Ashok</td>\n",
       "      <td>8.59</td>\n",
       "      <td>NaN</td>\n",
       "      <td>9.63</td>\n",
       "      <td>9.56</td>\n",
       "    </tr>\n",
       "  </tbody>\n",
       "</table>\n",
       "</div>"
      ],
      "text/plain": [
       "    Roll                   Name  Femarks  SEMarks  Temarks  Bemarks\n",
       "15    16   Chavhan Divya Bhikan     8.04      NaN     9.59     9.66\n",
       "45    46       Patel Jaid Aslam     0.00      NaN     8.50     9.14\n",
       "58    59  Ratnaparkhi Raj Ashok     8.59      NaN     9.63     9.56"
      ]
     },
     "execution_count": 22,
     "metadata": {},
     "output_type": "execute_result"
    }
   ],
   "source": [
    "se = pd.isnull(df['SEMarks'])\n",
    "df[se]"
   ]
  },
  {
   "cell_type": "code",
   "execution_count": 23,
   "id": "b89fb97e-af42-431f-9193-8d8c760c26e5",
   "metadata": {},
   "outputs": [
    {
     "data": {
      "text/html": [
       "<div>\n",
       "<style scoped>\n",
       "    .dataframe tbody tr th:only-of-type {\n",
       "        vertical-align: middle;\n",
       "    }\n",
       "\n",
       "    .dataframe tbody tr th {\n",
       "        vertical-align: top;\n",
       "    }\n",
       "\n",
       "    .dataframe thead th {\n",
       "        text-align: right;\n",
       "    }\n",
       "</style>\n",
       "<table border=\"1\" class=\"dataframe\">\n",
       "  <thead>\n",
       "    <tr style=\"text-align: right;\">\n",
       "      <th></th>\n",
       "      <th>Roll</th>\n",
       "      <th>Name</th>\n",
       "      <th>Femarks</th>\n",
       "      <th>SEMarks</th>\n",
       "      <th>Temarks</th>\n",
       "      <th>Bemarks</th>\n",
       "    </tr>\n",
       "  </thead>\n",
       "  <tbody>\n",
       "    <tr>\n",
       "      <th>18</th>\n",
       "      <td>19</td>\n",
       "      <td>Deore Atharva Mohan</td>\n",
       "      <td>6.25</td>\n",
       "      <td>6.89</td>\n",
       "      <td>NaN</td>\n",
       "      <td>7.2</td>\n",
       "    </tr>\n",
       "  </tbody>\n",
       "</table>\n",
       "</div>"
      ],
      "text/plain": [
       "    Roll                 Name  Femarks  SEMarks  Temarks  Bemarks\n",
       "18    19  Deore Atharva Mohan     6.25     6.89      NaN      7.2"
      ]
     },
     "execution_count": 23,
     "metadata": {},
     "output_type": "execute_result"
    }
   ],
   "source": [
    "te = pd.isnull(df['Temarks'])\n",
    "df[te]"
   ]
  },
  {
   "cell_type": "code",
   "execution_count": 24,
   "id": "f2d3699c-5b4a-42cb-ba7e-e484a9a46792",
   "metadata": {},
   "outputs": [
    {
     "data": {
      "text/html": [
       "<div>\n",
       "<style scoped>\n",
       "    .dataframe tbody tr th:only-of-type {\n",
       "        vertical-align: middle;\n",
       "    }\n",
       "\n",
       "    .dataframe tbody tr th {\n",
       "        vertical-align: top;\n",
       "    }\n",
       "\n",
       "    .dataframe thead th {\n",
       "        text-align: right;\n",
       "    }\n",
       "</style>\n",
       "<table border=\"1\" class=\"dataframe\">\n",
       "  <thead>\n",
       "    <tr style=\"text-align: right;\">\n",
       "      <th></th>\n",
       "      <th>Roll</th>\n",
       "      <th>Name</th>\n",
       "      <th>Femarks</th>\n",
       "      <th>SEMarks</th>\n",
       "      <th>Temarks</th>\n",
       "      <th>Bemarks</th>\n",
       "    </tr>\n",
       "  </thead>\n",
       "  <tbody>\n",
       "    <tr>\n",
       "      <th>3</th>\n",
       "      <td>4</td>\n",
       "      <td>Amrutkar Roshani Suresh</td>\n",
       "      <td>7.2</td>\n",
       "      <td>7.3</td>\n",
       "      <td>8.9</td>\n",
       "      <td>NaN</td>\n",
       "    </tr>\n",
       "    <tr>\n",
       "      <th>52</th>\n",
       "      <td>53</td>\n",
       "      <td>Patole Tanisha Prakash</td>\n",
       "      <td>4.0</td>\n",
       "      <td>8.0</td>\n",
       "      <td>9.0</td>\n",
       "      <td>NaN</td>\n",
       "    </tr>\n",
       "  </tbody>\n",
       "</table>\n",
       "</div>"
      ],
      "text/plain": [
       "    Roll                     Name  Femarks  SEMarks  Temarks  Bemarks\n",
       "3      4  Amrutkar Roshani Suresh      7.2      7.3      8.9      NaN\n",
       "52    53   Patole Tanisha Prakash      4.0      8.0      9.0      NaN"
      ]
     },
     "execution_count": 24,
     "metadata": {},
     "output_type": "execute_result"
    }
   ],
   "source": [
    "be = pd.isnull(df['Bemarks'])\n",
    "df[be]"
   ]
  },
  {
   "cell_type": "markdown",
   "id": "196e8420-b074-4f7d-8a22-078f0452d561",
   "metadata": {},
   "source": [
    "##2 Replace missing values using any 2 suitable methods\n"
   ]
  },
  {
   "cell_type": "code",
   "execution_count": 26,
   "id": "5695a67c-0e4b-44bd-b041-37ba94451dad",
   "metadata": {},
   "outputs": [
    {
     "data": {
      "text/html": [
       "<div>\n",
       "<style scoped>\n",
       "    .dataframe tbody tr th:only-of-type {\n",
       "        vertical-align: middle;\n",
       "    }\n",
       "\n",
       "    .dataframe tbody tr th {\n",
       "        vertical-align: top;\n",
       "    }\n",
       "\n",
       "    .dataframe thead th {\n",
       "        text-align: right;\n",
       "    }\n",
       "</style>\n",
       "<table border=\"1\" class=\"dataframe\">\n",
       "  <thead>\n",
       "    <tr style=\"text-align: right;\">\n",
       "      <th></th>\n",
       "      <th>Roll</th>\n",
       "      <th>Name</th>\n",
       "      <th>Femarks</th>\n",
       "      <th>SEMarks</th>\n",
       "      <th>Temarks</th>\n",
       "      <th>Bemarks</th>\n",
       "    </tr>\n",
       "  </thead>\n",
       "  <tbody>\n",
       "    <tr>\n",
       "      <th>55</th>\n",
       "      <td>56</td>\n",
       "      <td>Pawar Manish Sahebrao</td>\n",
       "      <td>8.55</td>\n",
       "      <td>8.64</td>\n",
       "      <td>9.73</td>\n",
       "      <td>9.80</td>\n",
       "    </tr>\n",
       "    <tr>\n",
       "      <th>56</th>\n",
       "      <td>57</td>\n",
       "      <td>Phadol Purva Gorakh</td>\n",
       "      <td>7.27</td>\n",
       "      <td>7.83</td>\n",
       "      <td>9.55</td>\n",
       "      <td>9.13</td>\n",
       "    </tr>\n",
       "    <tr>\n",
       "      <th>57</th>\n",
       "      <td>58</td>\n",
       "      <td>Rabade Vishal Chandrasing</td>\n",
       "      <td>9.54</td>\n",
       "      <td>10.00</td>\n",
       "      <td>9.45</td>\n",
       "      <td>9.54</td>\n",
       "    </tr>\n",
       "    <tr>\n",
       "      <th>58</th>\n",
       "      <td>59</td>\n",
       "      <td>Ratnaparkhi Raj Ashok</td>\n",
       "      <td>8.59</td>\n",
       "      <td>NaN</td>\n",
       "      <td>9.63</td>\n",
       "      <td>9.56</td>\n",
       "    </tr>\n",
       "    <tr>\n",
       "      <th>59</th>\n",
       "      <td>60</td>\n",
       "      <td>Ravte Rohit Ukhardya</td>\n",
       "      <td>NaN</td>\n",
       "      <td>NaN</td>\n",
       "      <td>5.00</td>\n",
       "      <td>9.36</td>\n",
       "    </tr>\n",
       "  </tbody>\n",
       "</table>\n",
       "</div>"
      ],
      "text/plain": [
       "    Roll                       Name  Femarks  SEMarks  Temarks  Bemarks\n",
       "55    56      Pawar Manish Sahebrao     8.55     8.64     9.73     9.80\n",
       "56    57        Phadol Purva Gorakh     7.27     7.83     9.55     9.13\n",
       "57    58  Rabade Vishal Chandrasing     9.54    10.00     9.45     9.54\n",
       "58    59      Ratnaparkhi Raj Ashok     8.59      NaN     9.63     9.56\n",
       "59    60       Ravte Rohit Ukhardya      NaN      NaN     5.00     9.36"
      ]
     },
     "execution_count": 26,
     "metadata": {},
     "output_type": "execute_result"
    }
   ],
   "source": [
    "miss=[0]\n",
    "data=pd.read_csv('academicperformance.csv',na_values=miss)\n",
    "#pandas will consider 0 as a missing value (NaN) when reading the CSV file.\n",
    "data.tail()"
   ]
  },
  {
   "cell_type": "markdown",
   "id": "313242ac-e2d7-4200-8fb9-c0b0c0d16262",
   "metadata": {},
   "source": [
    "##Replacing with single constant value"
   ]
  },
  {
   "cell_type": "code",
   "execution_count": 27,
   "id": "31646f7c-94c5-4b7d-abca-a5720883f6da",
   "metadata": {},
   "outputs": [
    {
     "data": {
      "text/html": [
       "<div>\n",
       "<style scoped>\n",
       "    .dataframe tbody tr th:only-of-type {\n",
       "        vertical-align: middle;\n",
       "    }\n",
       "\n",
       "    .dataframe tbody tr th {\n",
       "        vertical-align: top;\n",
       "    }\n",
       "\n",
       "    .dataframe thead th {\n",
       "        text-align: right;\n",
       "    }\n",
       "</style>\n",
       "<table border=\"1\" class=\"dataframe\">\n",
       "  <thead>\n",
       "    <tr style=\"text-align: right;\">\n",
       "      <th></th>\n",
       "      <th>Roll</th>\n",
       "      <th>Name</th>\n",
       "      <th>Femarks</th>\n",
       "      <th>SEMarks</th>\n",
       "      <th>Temarks</th>\n",
       "      <th>Bemarks</th>\n",
       "    </tr>\n",
       "  </thead>\n",
       "  <tbody>\n",
       "    <tr>\n",
       "      <th>55</th>\n",
       "      <td>56</td>\n",
       "      <td>Pawar Manish Sahebrao</td>\n",
       "      <td>8.55</td>\n",
       "      <td>8.64</td>\n",
       "      <td>9.73</td>\n",
       "      <td>9.80</td>\n",
       "    </tr>\n",
       "    <tr>\n",
       "      <th>56</th>\n",
       "      <td>57</td>\n",
       "      <td>Phadol Purva Gorakh</td>\n",
       "      <td>7.27</td>\n",
       "      <td>7.83</td>\n",
       "      <td>9.55</td>\n",
       "      <td>9.13</td>\n",
       "    </tr>\n",
       "    <tr>\n",
       "      <th>57</th>\n",
       "      <td>58</td>\n",
       "      <td>Rabade Vishal Chandrasing</td>\n",
       "      <td>9.54</td>\n",
       "      <td>10.00</td>\n",
       "      <td>9.45</td>\n",
       "      <td>9.54</td>\n",
       "    </tr>\n",
       "    <tr>\n",
       "      <th>58</th>\n",
       "      <td>59</td>\n",
       "      <td>Ratnaparkhi Raj Ashok</td>\n",
       "      <td>8.59</td>\n",
       "      <td>0.00</td>\n",
       "      <td>9.63</td>\n",
       "      <td>9.56</td>\n",
       "    </tr>\n",
       "    <tr>\n",
       "      <th>59</th>\n",
       "      <td>60</td>\n",
       "      <td>Ravte Rohit Ukhardya</td>\n",
       "      <td>0.00</td>\n",
       "      <td>0.00</td>\n",
       "      <td>5.00</td>\n",
       "      <td>9.36</td>\n",
       "    </tr>\n",
       "  </tbody>\n",
       "</table>\n",
       "</div>"
      ],
      "text/plain": [
       "    Roll                       Name  Femarks  SEMarks  Temarks  Bemarks\n",
       "55    56      Pawar Manish Sahebrao     8.55     8.64     9.73     9.80\n",
       "56    57        Phadol Purva Gorakh     7.27     7.83     9.55     9.13\n",
       "57    58  Rabade Vishal Chandrasing     9.54    10.00     9.45     9.54\n",
       "58    59      Ratnaparkhi Raj Ashok     8.59     0.00     9.63     9.56\n",
       "59    60       Ravte Rohit Ukhardya     0.00     0.00     5.00     9.36"
      ]
     },
     "execution_count": 27,
     "metadata": {},
     "output_type": "execute_result"
    }
   ],
   "source": [
    "singleval = df.fillna(0)\n",
    "singleval.tail()"
   ]
  },
  {
   "cell_type": "markdown",
   "id": "d1348cbe-e428-4653-89af-58da9ef2d33d",
   "metadata": {},
   "source": [
    "##Replacing with mean, median, std, max"
   ]
  },
  {
   "cell_type": "code",
   "execution_count": 45,
   "id": "8d4fde75-c039-4f8e-a761-66763c3291e4",
   "metadata": {},
   "outputs": [
    {
     "data": {
      "text/html": [
       "<div>\n",
       "<style scoped>\n",
       "    .dataframe tbody tr th:only-of-type {\n",
       "        vertical-align: middle;\n",
       "    }\n",
       "\n",
       "    .dataframe tbody tr th {\n",
       "        vertical-align: top;\n",
       "    }\n",
       "\n",
       "    .dataframe thead th {\n",
       "        text-align: right;\n",
       "    }\n",
       "</style>\n",
       "<table border=\"1\" class=\"dataframe\">\n",
       "  <thead>\n",
       "    <tr style=\"text-align: right;\">\n",
       "      <th></th>\n",
       "      <th>Roll</th>\n",
       "      <th>Name</th>\n",
       "      <th>Femarks</th>\n",
       "      <th>SEMarks</th>\n",
       "      <th>Temarks</th>\n",
       "      <th>Bemarks</th>\n",
       "    </tr>\n",
       "  </thead>\n",
       "  <tbody>\n",
       "    <tr>\n",
       "      <th>55</th>\n",
       "      <td>56</td>\n",
       "      <td>Pawar Manish Sahebrao</td>\n",
       "      <td>8.550000</td>\n",
       "      <td>8.64</td>\n",
       "      <td>9.73</td>\n",
       "      <td>9.80</td>\n",
       "    </tr>\n",
       "    <tr>\n",
       "      <th>56</th>\n",
       "      <td>57</td>\n",
       "      <td>Phadol Purva Gorakh</td>\n",
       "      <td>7.270000</td>\n",
       "      <td>7.83</td>\n",
       "      <td>9.55</td>\n",
       "      <td>9.13</td>\n",
       "    </tr>\n",
       "    <tr>\n",
       "      <th>57</th>\n",
       "      <td>58</td>\n",
       "      <td>Rabade Vishal Chandrasing</td>\n",
       "      <td>9.540000</td>\n",
       "      <td>10.00</td>\n",
       "      <td>9.45</td>\n",
       "      <td>9.54</td>\n",
       "    </tr>\n",
       "    <tr>\n",
       "      <th>58</th>\n",
       "      <td>59</td>\n",
       "      <td>Ratnaparkhi Raj Ashok</td>\n",
       "      <td>8.590000</td>\n",
       "      <td>8.64</td>\n",
       "      <td>9.63</td>\n",
       "      <td>9.56</td>\n",
       "    </tr>\n",
       "    <tr>\n",
       "      <th>59</th>\n",
       "      <td>60</td>\n",
       "      <td>Ravte Rohit Ukhardya</td>\n",
       "      <td>9.679074</td>\n",
       "      <td>8.64</td>\n",
       "      <td>5.00</td>\n",
       "      <td>9.36</td>\n",
       "    </tr>\n",
       "  </tbody>\n",
       "</table>\n",
       "</div>"
      ],
      "text/plain": [
       "    Roll                       Name   Femarks  SEMarks  Temarks  Bemarks\n",
       "55    56      Pawar Manish Sahebrao  8.550000     8.64     9.73     9.80\n",
       "56    57        Phadol Purva Gorakh  7.270000     7.83     9.55     9.13\n",
       "57    58  Rabade Vishal Chandrasing  9.540000    10.00     9.45     9.54\n",
       "58    59      Ratnaparkhi Raj Ashok  8.590000     8.64     9.63     9.56\n",
       "59    60       Ravte Rohit Ukhardya  9.679074     8.64     5.00     9.36"
      ]
     },
     "execution_count": 45,
     "metadata": {},
     "output_type": "execute_result"
    }
   ],
   "source": [
    "# replace by mean\n",
    "mean_data = data\n",
    "mean_data['Femarks'] = mean_data['Femarks'].fillna(mean_data['Femarks'].mean())\n",
    "mean_data.tail()\n",
    "\n",
    "# replace by median\n",
    "med_data = data\n",
    "med_data['SEMarks'] = med_data['SEMarks'].fillna(med_data['SEMarks'].median())\n",
    "med_data.tail()\n",
    "\n",
    "# replace by standard deviation\n",
    "std_data = data\n",
    "std_data['SEMarks'] = std_data['SEMarks'].fillna(std_data['SEMarks'].std())\n",
    "std_data.tail()\n",
    "\n",
    "#replace by max\n",
    "max_data = mean_data\n",
    "max_data['SEMarks'] = max_data['SEMarks'].fillna(max_data['SEMarks'].max())\n",
    "max_data.tail()"
   ]
  },
  {
   "cell_type": "markdown",
   "id": "fe0bae00-00be-4bd2-8096-afb262653b89",
   "metadata": {},
   "source": [
    "## Identify outliers using boxplot"
   ]
  },
  {
   "cell_type": "code",
   "execution_count": 38,
   "id": "8f4c73a5-faaa-4847-8583-7a5a99dbb59d",
   "metadata": {},
   "outputs": [
    {
     "data": {
      "text/plain": [
       "Index(['Roll', 'Name', 'Femarks', 'SEMarks', 'Temarks', 'Bemarks'], dtype='object')"
      ]
     },
     "execution_count": 38,
     "metadata": {},
     "output_type": "execute_result"
    }
   ],
   "source": [
    "data.columns"
   ]
  },
  {
   "cell_type": "code",
   "execution_count": 39,
   "id": "5765986e-c3c2-42ed-b5e3-ee564ba3c8e9",
   "metadata": {},
   "outputs": [
    {
     "data": {
      "text/plain": [
       "<Axes: >"
      ]
     },
     "execution_count": 39,
     "metadata": {},
     "output_type": "execute_result"
    },
    {
     "data": {
      "image/png": "[encoded data removed]",
      "text/plain": [
       "<Figure size 640x480 with 1 Axes>"
      ]
     },
     "metadata": {},
     "output_type": "display_data"
    }
   ],
   "source": [
    "cols = ['Femarks', 'SEMarks', 'Temarks', 'Bemarks']\n",
    "data.boxplot(cols)"
   ]
  },
  {
   "cell_type": "markdown",
   "id": "dc911863-d80b-4965-9a42-e320ac7094fa",
   "metadata": {},
   "source": [
    "Detecting outliers using IQR"
   ]
  },
  {
   "cell_type": "code",
   "execution_count": 50,
   "id": "509e4a75-d3a4-4b68-b3d5-065b4be6610f",
   "metadata": {},
   "outputs": [
    {
     "name": "stdout",
     "output_type": "stream",
     "text": [
      "low bound 5.316250000000001  high bound 11.186249999999998\n",
      "FE outliers [95.0, 4.0] \n",
      "Original dataset size: (60, 6)\n",
      "Trimmed dataset size: (58, 6)\n"
     ]
    },
    {
     "data": {
      "text/plain": [
       "Index(['Roll', 'Name', 'Femarks', 'SEMarks', 'Temarks', 'Bemarks'], dtype='object')"
      ]
     },
     "execution_count": 50,
     "metadata": {},
     "output_type": "execute_result"
    }
   ],
   "source": [
    "fe_q1 = mean_data['Femarks'].quantile(0.25)\n",
    "fe_q3 = mean_data['Femarks'].quantile(0.75)\n",
    "fe_iqr = fe_q3 - fe_q1\n",
    "fe_lowbound = fe_q1 - 1.5 * fe_iqr\n",
    "fe_highbound = fe_q3 + 1.5 * fe_iqr\n",
    "print(f\"low bound {fe_lowbound}  high bound {fe_highbound}\")\n",
    "fe_data = mean_data['Femarks']\n",
    "fe_outliers = []\n",
    "for i in fe_data: \n",
    "    if i < fe_lowbound or i > fe_highbound:\n",
    "        fe_outliers.append(i)\n",
    "\n",
    "print(f\"FE outliers {fe_outliers} \")\n",
    "\n",
    "trimmed_fe = mean_data[(mean_data['Femarks'] >= fe_lowbound) & (mean_data['Femarks'] <= fe_highbound)]\n",
    "print(\"Original dataset size:\", mean_data.shape)\n",
    "print(\"Trimmed dataset size:\", trimmed_fe.shape)\n",
    "data.columns\n",
    "\n",
    "# another tefchnickl\n",
    "\n",
    "# refined_df['Temarks']=np.where(refined_df['Temarks']<lwrbound,mediana,refined_df['Temarks'])"
   ]
  },
  {
   "cell_type": "markdown",
   "id": "e247585d-cdcd-4a37-b73e-512fc15b8667",
   "metadata": {},
   "source": [
    "5 Perform any 2 data normalization technique"
   ]
  },
  {
   "cell_type": "code",
   "execution_count": 54,
   "id": "f6a3eab5-d1d7-4ce3-bcf7-a4863f76d5c0",
   "metadata": {},
   "outputs": [
    {
     "name": "stdout",
     "output_type": "stream",
     "text": [
      "Min-Max Scaled DataFrame:\n",
      "   Roll                     Name   Femarks   SEMarks   Temarks   Bemarks\n",
      "0     1      Aage Raksha Gajanan  0.048352  0.022735  0.977597  0.964286\n",
      "1     2       Ahire Anuja Sanjay  0.045495  0.017532  0.879837  0.935714\n",
      "2     3  Ajare Ashiya Nasaruddin  0.028681  0.000226  0.843177  0.692857\n",
      "3     4  Amrutkar Roshani Suresh  0.035165  0.008031  0.794297       NaN\n",
      "4     5    Attarde Komal Bhagwan  0.033516  0.009727  0.824847  0.785714\n",
      "\n",
      "Standardized DataFrame:\n",
      "   Roll                     Name   Femarks   SEMarks   Temarks   Bemarks\n",
      "0     1      Aage Raksha Gajanan -0.114628 -0.115849  0.727803  0.984616\n",
      "1     2       Ahire Anuja Sanjay -0.137928 -0.157251  0.045984  0.823975\n",
      "2     3  Ajare Ashiya Nasaruddin -0.275044 -0.294956 -0.209698 -0.541469\n",
      "3     4  Amrutkar Roshani Suresh -0.222169 -0.232854 -0.550607       NaN\n",
      "4     5    Attarde Komal Bhagwan -0.235612 -0.219353 -0.337539 -0.019388\n"
     ]
    }
   ],
   "source": [
    "from sklearn.preprocessing import MinMaxScaler, StandardScaler\n",
    "\n",
    "# Assuming your data is stored in a DataFrame called df\n",
    "\n",
    "# Separate the numerical columns for normalization\n",
    "numerical_columns = ['Femarks', 'SEMarks', 'Temarks', 'Bemarks']\n",
    "\n",
    "# Min-Max Scaling\n",
    "min_max_scaler = MinMaxScaler()\n",
    "df_min_max_scaled = data.copy()  # Make a copy of the original DataFrame\n",
    "df_min_max_scaled[numerical_columns] = min_max_scaler.fit_transform(data[numerical_columns])\n",
    "# df_min_max_scaled.head()\n",
    "\n",
    "# scales all the values between 0 to 1 to extract features from it\n",
    "\n",
    "#Z score normalization (standard scaling)\n",
    "standard_scaler = StandardScaler()\n",
    "df_standard_scaled = data.copy()  # Make a copy of the original DataFrame\n",
    "df_standard_scaled[numerical_columns] = standard_scaler.fit_transform(data[numerical_columns])\n",
    "\n",
    "# Print the first few rows of the normalized DataFrames\n",
    "print(\"Min-Max Scaled DataFrame:\")\n",
    "print(df_min_max_scaled.head())\n",
    "\n",
    "print(\"\\nStandardized DataFrame:\")\n",
    "print(df_standard_scaled.head())\n"
   ]
  },
  {
   "cell_type": "code",
   "execution_count": null,
   "id": "46c1d6df-ee95-48ae-bc50-6bbf0abfa76d",
   "metadata": {},
   "outputs": [],
   "source": []
  }
 ],
 "metadata": {
  "kernelspec": {
   "display_name": "Python 3 (ipykernel)",
   "language": "python",
   "name": "python3"
  },
  "language_info": {
   "codemirror_mode": {
    "name": "ipython",
    "version": 3
   },
   "file_extension": ".py",
   "mimetype": "text/x-python",
   "name": "python",
   "nbconvert_exporter": "python",
   "pygments_lexer": "ipython3",
   "version": "3.11.7"
  }
 },
 "nbformat": 4,
 "nbformat_minor": 5
}
