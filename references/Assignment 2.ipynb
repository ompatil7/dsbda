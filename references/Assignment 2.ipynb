{
 "cells": [
  {
   "cell_type": "code",
   "execution_count": 1,
   "id": "7b62c85f",
   "metadata": {},
   "outputs": [],
   "source": [
    "import numpy as np\n",
    "import pandas as pd\n",
    "import matplotlib.pyplot as plt\n",
    "import seaborn as sns\n",
    "%matplotlib inline"
   ]
  },
  {
   "cell_type": "code",
   "execution_count": 2,
   "id": "2c620597",
   "metadata": {},
   "outputs": [],
   "source": [
    "df=pd.read_csv('academicperformance(2).csv')"
   ]
  },
  {
   "cell_type": "code",
   "execution_count": 3,
   "id": "69a4d634",
   "metadata": {},
   "outputs": [
    {
     "data": {
      "text/html": [
       "<div>\n",
       "<style scoped>\n",
       "    .dataframe tbody tr th:only-of-type {\n",
       "        vertical-align: middle;\n",
       "    }\n",
       "\n",
       "    .dataframe tbody tr th {\n",
       "        vertical-align: top;\n",
       "    }\n",
       "\n",
       "    .dataframe thead th {\n",
       "        text-align: right;\n",
       "    }\n",
       "</style>\n",
       "<table border=\"1\" class=\"dataframe\">\n",
       "  <thead>\n",
       "    <tr style=\"text-align: right;\">\n",
       "      <th></th>\n",
       "      <th>Roll</th>\n",
       "      <th>Name</th>\n",
       "      <th>Femarks</th>\n",
       "      <th>SEMarks</th>\n",
       "      <th>Temarks</th>\n",
       "      <th>Bemarks</th>\n",
       "    </tr>\n",
       "  </thead>\n",
       "  <tbody>\n",
       "    <tr>\n",
       "      <th>0</th>\n",
       "      <td>1</td>\n",
       "      <td>Aage Raksha Gajanan</td>\n",
       "      <td>8.40</td>\n",
       "      <td>8.60</td>\n",
       "      <td>9.80</td>\n",
       "      <td>9.90</td>\n",
       "    </tr>\n",
       "    <tr>\n",
       "      <th>1</th>\n",
       "      <td>2</td>\n",
       "      <td>Ahire Anuja Sanjay</td>\n",
       "      <td>8.14</td>\n",
       "      <td>8.14</td>\n",
       "      <td>9.32</td>\n",
       "      <td>9.82</td>\n",
       "    </tr>\n",
       "    <tr>\n",
       "      <th>2</th>\n",
       "      <td>3</td>\n",
       "      <td>Ajare Ashiya Nasaruddin</td>\n",
       "      <td>6.61</td>\n",
       "      <td>6.61</td>\n",
       "      <td>9.14</td>\n",
       "      <td>9.14</td>\n",
       "    </tr>\n",
       "    <tr>\n",
       "      <th>3</th>\n",
       "      <td>4</td>\n",
       "      <td>Amrutkar Roshani Suresh</td>\n",
       "      <td>7.20</td>\n",
       "      <td>7.30</td>\n",
       "      <td>8.90</td>\n",
       "      <td>NaN</td>\n",
       "    </tr>\n",
       "    <tr>\n",
       "      <th>4</th>\n",
       "      <td>5</td>\n",
       "      <td>Attarde Komal Bhagwan</td>\n",
       "      <td>7.05</td>\n",
       "      <td>7.45</td>\n",
       "      <td>9.05</td>\n",
       "      <td>9.40</td>\n",
       "    </tr>\n",
       "  </tbody>\n",
       "</table>\n",
       "</div>"
      ],
      "text/plain": [
       "   Roll                     Name  Femarks  SEMarks  Temarks  Bemarks\n",
       "0     1      Aage Raksha Gajanan     8.40     8.60     9.80     9.90\n",
       "1     2       Ahire Anuja Sanjay     8.14     8.14     9.32     9.82\n",
       "2     3  Ajare Ashiya Nasaruddin     6.61     6.61     9.14     9.14\n",
       "3     4  Amrutkar Roshani Suresh     7.20     7.30     8.90      NaN\n",
       "4     5    Attarde Komal Bhagwan     7.05     7.45     9.05     9.40"
      ]
     },
     "execution_count": 3,
     "metadata": {},
     "output_type": "execute_result"
    }
   ],
   "source": [
    "df.head()"
   ]
  },
  {
   "cell_type": "code",
   "execution_count": 5,
   "id": "8e1f32b7",
   "metadata": {},
   "outputs": [
    {
     "data": {
      "text/html": [
       "<div>\n",
       "<style scoped>\n",
       "    .dataframe tbody tr th:only-of-type {\n",
       "        vertical-align: middle;\n",
       "    }\n",
       "\n",
       "    .dataframe tbody tr th {\n",
       "        vertical-align: top;\n",
       "    }\n",
       "\n",
       "    .dataframe thead th {\n",
       "        text-align: right;\n",
       "    }\n",
       "</style>\n",
       "<table border=\"1\" class=\"dataframe\">\n",
       "  <thead>\n",
       "    <tr style=\"text-align: right;\">\n",
       "      <th></th>\n",
       "      <th>Roll</th>\n",
       "      <th>Femarks</th>\n",
       "      <th>SEMarks</th>\n",
       "      <th>Temarks</th>\n",
       "      <th>Bemarks</th>\n",
       "    </tr>\n",
       "  </thead>\n",
       "  <tbody>\n",
       "    <tr>\n",
       "      <th>count</th>\n",
       "      <td>60.000000</td>\n",
       "      <td>58.000000</td>\n",
       "      <td>57.000000</td>\n",
       "      <td>59.000000</td>\n",
       "      <td>58.000000</td>\n",
       "    </tr>\n",
       "    <tr>\n",
       "      <th>mean</th>\n",
       "      <td>30.500000</td>\n",
       "      <td>9.011552</td>\n",
       "      <td>9.346491</td>\n",
       "      <td>9.287627</td>\n",
       "      <td>9.409655</td>\n",
       "    </tr>\n",
       "    <tr>\n",
       "      <th>std</th>\n",
       "      <td>17.464249</td>\n",
       "      <td>11.712654</td>\n",
       "      <td>11.779463</td>\n",
       "      <td>0.710042</td>\n",
       "      <td>0.502356</td>\n",
       "    </tr>\n",
       "    <tr>\n",
       "      <th>min</th>\n",
       "      <td>1.000000</td>\n",
       "      <td>0.000000</td>\n",
       "      <td>0.000000</td>\n",
       "      <td>5.000000</td>\n",
       "      <td>7.200000</td>\n",
       "    </tr>\n",
       "    <tr>\n",
       "      <th>25%</th>\n",
       "      <td>15.750000</td>\n",
       "      <td>7.255000</td>\n",
       "      <td>7.660000</td>\n",
       "      <td>9.095000</td>\n",
       "      <td>9.150000</td>\n",
       "    </tr>\n",
       "    <tr>\n",
       "      <th>50%</th>\n",
       "      <td>30.500000</td>\n",
       "      <td>8.260000</td>\n",
       "      <td>8.500000</td>\n",
       "      <td>9.500000</td>\n",
       "      <td>9.510000</td>\n",
       "    </tr>\n",
       "    <tr>\n",
       "      <th>75%</th>\n",
       "      <td>45.250000</td>\n",
       "      <td>8.817500</td>\n",
       "      <td>9.160000</td>\n",
       "      <td>9.665000</td>\n",
       "      <td>9.762500</td>\n",
       "    </tr>\n",
       "    <tr>\n",
       "      <th>max</th>\n",
       "      <td>60.000000</td>\n",
       "      <td>95.000000</td>\n",
       "      <td>95.000000</td>\n",
       "      <td>9.910000</td>\n",
       "      <td>10.000000</td>\n",
       "    </tr>\n",
       "  </tbody>\n",
       "</table>\n",
       "</div>"
      ],
      "text/plain": [
       "            Roll    Femarks    SEMarks    Temarks    Bemarks\n",
       "count  60.000000  58.000000  57.000000  59.000000  58.000000\n",
       "mean   30.500000   9.011552   9.346491   9.287627   9.409655\n",
       "std    17.464249  11.712654  11.779463   0.710042   0.502356\n",
       "min     1.000000   0.000000   0.000000   5.000000   7.200000\n",
       "25%    15.750000   7.255000   7.660000   9.095000   9.150000\n",
       "50%    30.500000   8.260000   8.500000   9.500000   9.510000\n",
       "75%    45.250000   8.817500   9.160000   9.665000   9.762500\n",
       "max    60.000000  95.000000  95.000000   9.910000  10.000000"
      ]
     },
     "execution_count": 5,
     "metadata": {},
     "output_type": "execute_result"
    }
   ],
   "source": [
    "df.describe()"
   ]
  },
  {
   "cell_type": "code",
   "execution_count": 6,
   "id": "2020dae1",
   "metadata": {},
   "outputs": [
    {
     "name": "stdout",
     "output_type": "stream",
     "text": [
      "<class 'pandas.core.frame.DataFrame'>\n",
      "RangeIndex: 60 entries, 0 to 59\n",
      "Data columns (total 6 columns):\n",
      " #   Column   Non-Null Count  Dtype  \n",
      "---  ------   --------------  -----  \n",
      " 0   Roll     60 non-null     int64  \n",
      " 1   Name     60 non-null     object \n",
      " 2   Femarks  58 non-null     float64\n",
      " 3   SEMarks  57 non-null     float64\n",
      " 4   Temarks  59 non-null     float64\n",
      " 5   Bemarks  58 non-null     float64\n",
      "dtypes: float64(4), int64(1), object(1)\n",
      "memory usage: 2.9+ KB\n"
     ]
    }
   ],
   "source": [
    "df.info()"
   ]
  },
  {
   "cell_type": "code",
   "execution_count": 7,
   "id": "91d03c92",
   "metadata": {},
   "outputs": [
    {
     "data": {
      "text/plain": [
       "Roll       0\n",
       "Name       0\n",
       "Femarks    2\n",
       "SEMarks    3\n",
       "Temarks    1\n",
       "Bemarks    2\n",
       "dtype: int64"
      ]
     },
     "execution_count": 7,
     "metadata": {},
     "output_type": "execute_result"
    }
   ],
   "source": [
    "df.isnull().sum()"
   ]
  },
  {
   "cell_type": "markdown",
   "id": "30033e6a",
   "metadata": {},
   "source": [
    "To find which row has null value"
   ]
  },
  {
   "cell_type": "code",
   "execution_count": 12,
   "id": "ed55f1e4",
   "metadata": {},
   "outputs": [],
   "source": [
    "fe=pd.isnull(df['Femarks'])"
   ]
  },
  {
   "cell_type": "code",
   "execution_count": 13,
   "id": "ffdb5fbf",
   "metadata": {},
   "outputs": [
    {
     "data": {
      "text/html": [
       "<div>\n",
       "<style scoped>\n",
       "    .dataframe tbody tr th:only-of-type {\n",
       "        vertical-align: middle;\n",
       "    }\n",
       "\n",
       "    .dataframe tbody tr th {\n",
       "        vertical-align: top;\n",
       "    }\n",
       "\n",
       "    .dataframe thead th {\n",
       "        text-align: right;\n",
       "    }\n",
       "</style>\n",
       "<table border=\"1\" class=\"dataframe\">\n",
       "  <thead>\n",
       "    <tr style=\"text-align: right;\">\n",
       "      <th></th>\n",
       "      <th>Roll</th>\n",
       "      <th>Name</th>\n",
       "      <th>Femarks</th>\n",
       "      <th>SEMarks</th>\n",
       "      <th>Temarks</th>\n",
       "      <th>Bemarks</th>\n",
       "    </tr>\n",
       "  </thead>\n",
       "  <tbody>\n",
       "    <tr>\n",
       "      <th>5</th>\n",
       "      <td>6</td>\n",
       "      <td>Avhad Pushkaraj Laxmikant</td>\n",
       "      <td>NaN</td>\n",
       "      <td>8.0</td>\n",
       "      <td>7.91</td>\n",
       "      <td>7.84</td>\n",
       "    </tr>\n",
       "    <tr>\n",
       "      <th>39</th>\n",
       "      <td>40</td>\n",
       "      <td>Mahale Shreya Sanjay</td>\n",
       "      <td>NaN</td>\n",
       "      <td>0.0</td>\n",
       "      <td>9.86</td>\n",
       "      <td>9.91</td>\n",
       "    </tr>\n",
       "  </tbody>\n",
       "</table>\n",
       "</div>"
      ],
      "text/plain": [
       "    Roll                       Name  Femarks  SEMarks  Temarks  Bemarks\n",
       "5      6  Avhad Pushkaraj Laxmikant      NaN      8.0     7.91     7.84\n",
       "39    40       Mahale Shreya Sanjay      NaN      0.0     9.86     9.91"
      ]
     },
     "execution_count": 13,
     "metadata": {},
     "output_type": "execute_result"
    }
   ],
   "source": [
    "df[fe]"
   ]
  },
  {
   "cell_type": "code",
   "execution_count": 14,
   "id": "3dd72ffb",
   "metadata": {},
   "outputs": [],
   "source": [
    "se=pd.isnull(df['SEMarks'])"
   ]
  },
  {
   "cell_type": "code",
   "execution_count": 15,
   "id": "7def6df2",
   "metadata": {},
   "outputs": [
    {
     "data": {
      "text/html": [
       "<div>\n",
       "<style scoped>\n",
       "    .dataframe tbody tr th:only-of-type {\n",
       "        vertical-align: middle;\n",
       "    }\n",
       "\n",
       "    .dataframe tbody tr th {\n",
       "        vertical-align: top;\n",
       "    }\n",
       "\n",
       "    .dataframe thead th {\n",
       "        text-align: right;\n",
       "    }\n",
       "</style>\n",
       "<table border=\"1\" class=\"dataframe\">\n",
       "  <thead>\n",
       "    <tr style=\"text-align: right;\">\n",
       "      <th></th>\n",
       "      <th>Roll</th>\n",
       "      <th>Name</th>\n",
       "      <th>Femarks</th>\n",
       "      <th>SEMarks</th>\n",
       "      <th>Temarks</th>\n",
       "      <th>Bemarks</th>\n",
       "    </tr>\n",
       "  </thead>\n",
       "  <tbody>\n",
       "    <tr>\n",
       "      <th>15</th>\n",
       "      <td>16</td>\n",
       "      <td>Chavhan Divya Bhikan</td>\n",
       "      <td>8.04</td>\n",
       "      <td>NaN</td>\n",
       "      <td>9.59</td>\n",
       "      <td>9.66</td>\n",
       "    </tr>\n",
       "    <tr>\n",
       "      <th>45</th>\n",
       "      <td>46</td>\n",
       "      <td>Patel Jaid Aslam</td>\n",
       "      <td>0.00</td>\n",
       "      <td>NaN</td>\n",
       "      <td>8.50</td>\n",
       "      <td>9.14</td>\n",
       "    </tr>\n",
       "    <tr>\n",
       "      <th>58</th>\n",
       "      <td>59</td>\n",
       "      <td>Ratnaparkhi Raj Ashok</td>\n",
       "      <td>8.59</td>\n",
       "      <td>NaN</td>\n",
       "      <td>9.63</td>\n",
       "      <td>9.56</td>\n",
       "    </tr>\n",
       "  </tbody>\n",
       "</table>\n",
       "</div>"
      ],
      "text/plain": [
       "    Roll                   Name  Femarks  SEMarks  Temarks  Bemarks\n",
       "15    16   Chavhan Divya Bhikan     8.04      NaN     9.59     9.66\n",
       "45    46       Patel Jaid Aslam     0.00      NaN     8.50     9.14\n",
       "58    59  Ratnaparkhi Raj Ashok     8.59      NaN     9.63     9.56"
      ]
     },
     "execution_count": 15,
     "metadata": {},
     "output_type": "execute_result"
    }
   ],
   "source": [
    "df[se]"
   ]
  },
  {
   "cell_type": "code",
   "execution_count": 16,
   "id": "218ecb9f",
   "metadata": {},
   "outputs": [],
   "source": [
    "te=pd.isnull(df['Temarks'])"
   ]
  },
  {
   "cell_type": "code",
   "execution_count": 17,
   "id": "460e6cf0",
   "metadata": {},
   "outputs": [
    {
     "data": {
      "text/html": [
       "<div>\n",
       "<style scoped>\n",
       "    .dataframe tbody tr th:only-of-type {\n",
       "        vertical-align: middle;\n",
       "    }\n",
       "\n",
       "    .dataframe tbody tr th {\n",
       "        vertical-align: top;\n",
       "    }\n",
       "\n",
       "    .dataframe thead th {\n",
       "        text-align: right;\n",
       "    }\n",
       "</style>\n",
       "<table border=\"1\" class=\"dataframe\">\n",
       "  <thead>\n",
       "    <tr style=\"text-align: right;\">\n",
       "      <th></th>\n",
       "      <th>Roll</th>\n",
       "      <th>Name</th>\n",
       "      <th>Femarks</th>\n",
       "      <th>SEMarks</th>\n",
       "      <th>Temarks</th>\n",
       "      <th>Bemarks</th>\n",
       "    </tr>\n",
       "  </thead>\n",
       "  <tbody>\n",
       "    <tr>\n",
       "      <th>18</th>\n",
       "      <td>19</td>\n",
       "      <td>Deore Atharva Mohan</td>\n",
       "      <td>6.25</td>\n",
       "      <td>6.89</td>\n",
       "      <td>NaN</td>\n",
       "      <td>7.2</td>\n",
       "    </tr>\n",
       "  </tbody>\n",
       "</table>\n",
       "</div>"
      ],
      "text/plain": [
       "    Roll                 Name  Femarks  SEMarks  Temarks  Bemarks\n",
       "18    19  Deore Atharva Mohan     6.25     6.89      NaN      7.2"
      ]
     },
     "execution_count": 17,
     "metadata": {},
     "output_type": "execute_result"
    }
   ],
   "source": [
    "df[te]"
   ]
  },
  {
   "cell_type": "code",
   "execution_count": 18,
   "id": "faab0c2e",
   "metadata": {},
   "outputs": [],
   "source": [
    "be=pd.isnull(df['Bemarks'])"
   ]
  },
  {
   "cell_type": "code",
   "execution_count": 19,
   "id": "e5d2f217",
   "metadata": {},
   "outputs": [
    {
     "data": {
      "text/html": [
       "<div>\n",
       "<style scoped>\n",
       "    .dataframe tbody tr th:only-of-type {\n",
       "        vertical-align: middle;\n",
       "    }\n",
       "\n",
       "    .dataframe tbody tr th {\n",
       "        vertical-align: top;\n",
       "    }\n",
       "\n",
       "    .dataframe thead th {\n",
       "        text-align: right;\n",
       "    }\n",
       "</style>\n",
       "<table border=\"1\" class=\"dataframe\">\n",
       "  <thead>\n",
       "    <tr style=\"text-align: right;\">\n",
       "      <th></th>\n",
       "      <th>Roll</th>\n",
       "      <th>Name</th>\n",
       "      <th>Femarks</th>\n",
       "      <th>SEMarks</th>\n",
       "      <th>Temarks</th>\n",
       "      <th>Bemarks</th>\n",
       "    </tr>\n",
       "  </thead>\n",
       "  <tbody>\n",
       "    <tr>\n",
       "      <th>3</th>\n",
       "      <td>4</td>\n",
       "      <td>Amrutkar Roshani Suresh</td>\n",
       "      <td>7.2</td>\n",
       "      <td>7.3</td>\n",
       "      <td>8.9</td>\n",
       "      <td>NaN</td>\n",
       "    </tr>\n",
       "    <tr>\n",
       "      <th>52</th>\n",
       "      <td>53</td>\n",
       "      <td>Patole Tanisha Prakash</td>\n",
       "      <td>4.0</td>\n",
       "      <td>8.0</td>\n",
       "      <td>9.0</td>\n",
       "      <td>NaN</td>\n",
       "    </tr>\n",
       "  </tbody>\n",
       "</table>\n",
       "</div>"
      ],
      "text/plain": [
       "    Roll                     Name  Femarks  SEMarks  Temarks  Bemarks\n",
       "3      4  Amrutkar Roshani Suresh      7.2      7.3      8.9      NaN\n",
       "52    53   Patole Tanisha Prakash      4.0      8.0      9.0      NaN"
      ]
     },
     "execution_count": 19,
     "metadata": {},
     "output_type": "execute_result"
    }
   ],
   "source": [
    "df[be]"
   ]
  },
  {
   "cell_type": "markdown",
   "id": "26b79e8a",
   "metadata": {},
   "source": [
    "To remove the inconsistency and replacing it by null values"
   ]
  },
  {
   "cell_type": "code",
   "execution_count": 24,
   "id": "a5b3601a",
   "metadata": {},
   "outputs": [],
   "source": [
    "miss=[0]\n",
    "data=pd.read_csv('academicperformance(2).csv',na_values=miss)"
   ]
  },
  {
   "cell_type": "code",
   "execution_count": 25,
   "id": "ce2d241f",
   "metadata": {},
   "outputs": [
    {
     "data": {
      "text/html": [
       "<div>\n",
       "<style scoped>\n",
       "    .dataframe tbody tr th:only-of-type {\n",
       "        vertical-align: middle;\n",
       "    }\n",
       "\n",
       "    .dataframe tbody tr th {\n",
       "        vertical-align: top;\n",
       "    }\n",
       "\n",
       "    .dataframe thead th {\n",
       "        text-align: right;\n",
       "    }\n",
       "</style>\n",
       "<table border=\"1\" class=\"dataframe\">\n",
       "  <thead>\n",
       "    <tr style=\"text-align: right;\">\n",
       "      <th></th>\n",
       "      <th>Roll</th>\n",
       "      <th>Name</th>\n",
       "      <th>Femarks</th>\n",
       "      <th>SEMarks</th>\n",
       "      <th>Temarks</th>\n",
       "      <th>Bemarks</th>\n",
       "    </tr>\n",
       "  </thead>\n",
       "  <tbody>\n",
       "    <tr>\n",
       "      <th>55</th>\n",
       "      <td>56</td>\n",
       "      <td>Pawar Manish Sahebrao</td>\n",
       "      <td>8.55</td>\n",
       "      <td>8.64</td>\n",
       "      <td>9.73</td>\n",
       "      <td>9.80</td>\n",
       "    </tr>\n",
       "    <tr>\n",
       "      <th>56</th>\n",
       "      <td>57</td>\n",
       "      <td>Phadol Purva Gorakh</td>\n",
       "      <td>7.27</td>\n",
       "      <td>7.83</td>\n",
       "      <td>9.55</td>\n",
       "      <td>9.13</td>\n",
       "    </tr>\n",
       "    <tr>\n",
       "      <th>57</th>\n",
       "      <td>58</td>\n",
       "      <td>Rabade Vishal Chandrasing</td>\n",
       "      <td>9.54</td>\n",
       "      <td>10.00</td>\n",
       "      <td>9.45</td>\n",
       "      <td>9.54</td>\n",
       "    </tr>\n",
       "    <tr>\n",
       "      <th>58</th>\n",
       "      <td>59</td>\n",
       "      <td>Ratnaparkhi Raj Ashok</td>\n",
       "      <td>8.59</td>\n",
       "      <td>NaN</td>\n",
       "      <td>9.63</td>\n",
       "      <td>9.56</td>\n",
       "    </tr>\n",
       "    <tr>\n",
       "      <th>59</th>\n",
       "      <td>60</td>\n",
       "      <td>Ravte Rohit Ukhardya</td>\n",
       "      <td>NaN</td>\n",
       "      <td>NaN</td>\n",
       "      <td>5.00</td>\n",
       "      <td>9.36</td>\n",
       "    </tr>\n",
       "  </tbody>\n",
       "</table>\n",
       "</div>"
      ],
      "text/plain": [
       "    Roll                       Name  Femarks  SEMarks  Temarks  Bemarks\n",
       "55    56      Pawar Manish Sahebrao     8.55     8.64     9.73     9.80\n",
       "56    57        Phadol Purva Gorakh     7.27     7.83     9.55     9.13\n",
       "57    58  Rabade Vishal Chandrasing     9.54    10.00     9.45     9.54\n",
       "58    59      Ratnaparkhi Raj Ashok     8.59      NaN     9.63     9.56\n",
       "59    60       Ravte Rohit Ukhardya      NaN      NaN     5.00     9.36"
      ]
     },
     "execution_count": 25,
     "metadata": {},
     "output_type": "execute_result"
    }
   ],
   "source": [
    "data.tail()"
   ]
  },
  {
   "cell_type": "code",
   "execution_count": 26,
   "id": "ed204e99",
   "metadata": {},
   "outputs": [],
   "source": [
    "#filling the null values with single value"
   ]
  },
  {
   "cell_type": "code",
   "execution_count": 27,
   "id": "58b97fbb",
   "metadata": {},
   "outputs": [],
   "source": [
    "singlnull=df.fillna(0)"
   ]
  },
  {
   "cell_type": "code",
   "execution_count": 28,
   "id": "e41877d0",
   "metadata": {},
   "outputs": [
    {
     "data": {
      "text/html": [
       "<div>\n",
       "<style scoped>\n",
       "    .dataframe tbody tr th:only-of-type {\n",
       "        vertical-align: middle;\n",
       "    }\n",
       "\n",
       "    .dataframe tbody tr th {\n",
       "        vertical-align: top;\n",
       "    }\n",
       "\n",
       "    .dataframe thead th {\n",
       "        text-align: right;\n",
       "    }\n",
       "</style>\n",
       "<table border=\"1\" class=\"dataframe\">\n",
       "  <thead>\n",
       "    <tr style=\"text-align: right;\">\n",
       "      <th></th>\n",
       "      <th>Roll</th>\n",
       "      <th>Name</th>\n",
       "      <th>Femarks</th>\n",
       "      <th>SEMarks</th>\n",
       "      <th>Temarks</th>\n",
       "      <th>Bemarks</th>\n",
       "    </tr>\n",
       "  </thead>\n",
       "  <tbody>\n",
       "    <tr>\n",
       "      <th>55</th>\n",
       "      <td>56</td>\n",
       "      <td>Pawar Manish Sahebrao</td>\n",
       "      <td>8.55</td>\n",
       "      <td>8.64</td>\n",
       "      <td>9.73</td>\n",
       "      <td>9.80</td>\n",
       "    </tr>\n",
       "    <tr>\n",
       "      <th>56</th>\n",
       "      <td>57</td>\n",
       "      <td>Phadol Purva Gorakh</td>\n",
       "      <td>7.27</td>\n",
       "      <td>7.83</td>\n",
       "      <td>9.55</td>\n",
       "      <td>9.13</td>\n",
       "    </tr>\n",
       "    <tr>\n",
       "      <th>57</th>\n",
       "      <td>58</td>\n",
       "      <td>Rabade Vishal Chandrasing</td>\n",
       "      <td>9.54</td>\n",
       "      <td>10.00</td>\n",
       "      <td>9.45</td>\n",
       "      <td>9.54</td>\n",
       "    </tr>\n",
       "    <tr>\n",
       "      <th>58</th>\n",
       "      <td>59</td>\n",
       "      <td>Ratnaparkhi Raj Ashok</td>\n",
       "      <td>8.59</td>\n",
       "      <td>0.00</td>\n",
       "      <td>9.63</td>\n",
       "      <td>9.56</td>\n",
       "    </tr>\n",
       "    <tr>\n",
       "      <th>59</th>\n",
       "      <td>60</td>\n",
       "      <td>Ravte Rohit Ukhardya</td>\n",
       "      <td>0.00</td>\n",
       "      <td>0.00</td>\n",
       "      <td>5.00</td>\n",
       "      <td>9.36</td>\n",
       "    </tr>\n",
       "  </tbody>\n",
       "</table>\n",
       "</div>"
      ],
      "text/plain": [
       "    Roll                       Name  Femarks  SEMarks  Temarks  Bemarks\n",
       "55    56      Pawar Manish Sahebrao     8.55     8.64     9.73     9.80\n",
       "56    57        Phadol Purva Gorakh     7.27     7.83     9.55     9.13\n",
       "57    58  Rabade Vishal Chandrasing     9.54    10.00     9.45     9.54\n",
       "58    59      Ratnaparkhi Raj Ashok     8.59     0.00     9.63     9.56\n",
       "59    60       Ravte Rohit Ukhardya     0.00     0.00     5.00     9.36"
      ]
     },
     "execution_count": 28,
     "metadata": {},
     "output_type": "execute_result"
    }
   ],
   "source": [
    "singlnull.tail()"
   ]
  },
  {
   "cell_type": "code",
   "execution_count": 29,
   "id": "65122c43",
   "metadata": {},
   "outputs": [],
   "source": [
    "#filling the null values with mean ,median,mode,std,minimum,maximum"
   ]
  },
  {
   "cell_type": "code",
   "execution_count": 40,
   "id": "05f3b3be",
   "metadata": {},
   "outputs": [
    {
     "data": {
      "text/html": [
       "<div>\n",
       "<style scoped>\n",
       "    .dataframe tbody tr th:only-of-type {\n",
       "        vertical-align: middle;\n",
       "    }\n",
       "\n",
       "    .dataframe tbody tr th {\n",
       "        vertical-align: top;\n",
       "    }\n",
       "\n",
       "    .dataframe thead th {\n",
       "        text-align: right;\n",
       "    }\n",
       "</style>\n",
       "<table border=\"1\" class=\"dataframe\">\n",
       "  <thead>\n",
       "    <tr style=\"text-align: right;\">\n",
       "      <th></th>\n",
       "      <th>Roll</th>\n",
       "      <th>Name</th>\n",
       "      <th>Femarks</th>\n",
       "      <th>SEMarks</th>\n",
       "      <th>Temarks</th>\n",
       "      <th>Bemarks</th>\n",
       "    </tr>\n",
       "  </thead>\n",
       "  <tbody>\n",
       "    <tr>\n",
       "      <th>55</th>\n",
       "      <td>56</td>\n",
       "      <td>Pawar Manish Sahebrao</td>\n",
       "      <td>8.550000</td>\n",
       "      <td>8.64</td>\n",
       "      <td>9.73</td>\n",
       "      <td>9.80</td>\n",
       "    </tr>\n",
       "    <tr>\n",
       "      <th>56</th>\n",
       "      <td>57</td>\n",
       "      <td>Phadol Purva Gorakh</td>\n",
       "      <td>7.270000</td>\n",
       "      <td>7.83</td>\n",
       "      <td>9.55</td>\n",
       "      <td>9.13</td>\n",
       "    </tr>\n",
       "    <tr>\n",
       "      <th>57</th>\n",
       "      <td>58</td>\n",
       "      <td>Rabade Vishal Chandrasing</td>\n",
       "      <td>9.540000</td>\n",
       "      <td>10.00</td>\n",
       "      <td>9.45</td>\n",
       "      <td>9.54</td>\n",
       "    </tr>\n",
       "    <tr>\n",
       "      <th>58</th>\n",
       "      <td>59</td>\n",
       "      <td>Ratnaparkhi Raj Ashok</td>\n",
       "      <td>8.590000</td>\n",
       "      <td>8.64</td>\n",
       "      <td>9.63</td>\n",
       "      <td>9.56</td>\n",
       "    </tr>\n",
       "    <tr>\n",
       "      <th>59</th>\n",
       "      <td>60</td>\n",
       "      <td>Ravte Rohit Ukhardya</td>\n",
       "      <td>9.679074</td>\n",
       "      <td>8.64</td>\n",
       "      <td>5.00</td>\n",
       "      <td>9.36</td>\n",
       "    </tr>\n",
       "  </tbody>\n",
       "</table>\n",
       "</div>"
      ],
      "text/plain": [
       "    Roll                       Name   Femarks  SEMarks  Temarks  Bemarks\n",
       "55    56      Pawar Manish Sahebrao  8.550000     8.64     9.73     9.80\n",
       "56    57        Phadol Purva Gorakh  7.270000     7.83     9.55     9.13\n",
       "57    58  Rabade Vishal Chandrasing  9.540000    10.00     9.45     9.54\n",
       "58    59      Ratnaparkhi Raj Ashok  8.590000     8.64     9.63     9.56\n",
       "59    60       Ravte Rohit Ukhardya  9.679074     8.64     5.00     9.36"
      ]
     },
     "execution_count": 40,
     "metadata": {},
     "output_type": "execute_result"
    }
   ],
   "source": [
    "#filling the femarks col with mean\n",
    "meand=data\n",
    "meand['Femarks']=meand['Femarks'].fillna(meand['Femarks'].mean())\n",
    "meand.tail()"
   ]
  },
  {
   "cell_type": "code",
   "execution_count": 41,
   "id": "ca11515d",
   "metadata": {},
   "outputs": [],
   "source": [
    "mediand=data\n"
   ]
  },
  {
   "cell_type": "code",
   "execution_count": 42,
   "id": "0ac7e08c",
   "metadata": {},
   "outputs": [
    {
     "data": {
      "text/html": [
       "<div>\n",
       "<style scoped>\n",
       "    .dataframe tbody tr th:only-of-type {\n",
       "        vertical-align: middle;\n",
       "    }\n",
       "\n",
       "    .dataframe tbody tr th {\n",
       "        vertical-align: top;\n",
       "    }\n",
       "\n",
       "    .dataframe thead th {\n",
       "        text-align: right;\n",
       "    }\n",
       "</style>\n",
       "<table border=\"1\" class=\"dataframe\">\n",
       "  <thead>\n",
       "    <tr style=\"text-align: right;\">\n",
       "      <th></th>\n",
       "      <th>Roll</th>\n",
       "      <th>Name</th>\n",
       "      <th>Femarks</th>\n",
       "      <th>SEMarks</th>\n",
       "      <th>Temarks</th>\n",
       "      <th>Bemarks</th>\n",
       "    </tr>\n",
       "  </thead>\n",
       "  <tbody>\n",
       "    <tr>\n",
       "      <th>55</th>\n",
       "      <td>56</td>\n",
       "      <td>Pawar Manish Sahebrao</td>\n",
       "      <td>8.550000</td>\n",
       "      <td>8.64</td>\n",
       "      <td>9.73</td>\n",
       "      <td>9.80</td>\n",
       "    </tr>\n",
       "    <tr>\n",
       "      <th>56</th>\n",
       "      <td>57</td>\n",
       "      <td>Phadol Purva Gorakh</td>\n",
       "      <td>7.270000</td>\n",
       "      <td>7.83</td>\n",
       "      <td>9.55</td>\n",
       "      <td>9.13</td>\n",
       "    </tr>\n",
       "    <tr>\n",
       "      <th>57</th>\n",
       "      <td>58</td>\n",
       "      <td>Rabade Vishal Chandrasing</td>\n",
       "      <td>9.540000</td>\n",
       "      <td>10.00</td>\n",
       "      <td>9.45</td>\n",
       "      <td>9.54</td>\n",
       "    </tr>\n",
       "    <tr>\n",
       "      <th>58</th>\n",
       "      <td>59</td>\n",
       "      <td>Ratnaparkhi Raj Ashok</td>\n",
       "      <td>8.590000</td>\n",
       "      <td>8.64</td>\n",
       "      <td>9.63</td>\n",
       "      <td>9.56</td>\n",
       "    </tr>\n",
       "    <tr>\n",
       "      <th>59</th>\n",
       "      <td>60</td>\n",
       "      <td>Ravte Rohit Ukhardya</td>\n",
       "      <td>9.679074</td>\n",
       "      <td>8.64</td>\n",
       "      <td>5.00</td>\n",
       "      <td>9.36</td>\n",
       "    </tr>\n",
       "  </tbody>\n",
       "</table>\n",
       "</div>"
      ],
      "text/plain": [
       "    Roll                       Name   Femarks  SEMarks  Temarks  Bemarks\n",
       "55    56      Pawar Manish Sahebrao  8.550000     8.64     9.73     9.80\n",
       "56    57        Phadol Purva Gorakh  7.270000     7.83     9.55     9.13\n",
       "57    58  Rabade Vishal Chandrasing  9.540000    10.00     9.45     9.54\n",
       "58    59      Ratnaparkhi Raj Ashok  8.590000     8.64     9.63     9.56\n",
       "59    60       Ravte Rohit Ukhardya  9.679074     8.64     5.00     9.36"
      ]
     },
     "execution_count": 42,
     "metadata": {},
     "output_type": "execute_result"
    }
   ],
   "source": [
    "mediand['SEMarks']=mediand['SEMarks'].fillna(mediand['SEMarks'].median())\n",
    "mediand.tail()"
   ]
  },
  {
   "cell_type": "markdown",
   "id": "00c5215d",
   "metadata": {},
   "source": []
  },
  {
   "cell_type": "code",
   "execution_count": 43,
   "id": "d198cadf",
   "metadata": {},
   "outputs": [
    {
     "data": {
      "text/html": [
       "<div>\n",
       "<style scoped>\n",
       "    .dataframe tbody tr th:only-of-type {\n",
       "        vertical-align: middle;\n",
       "    }\n",
       "\n",
       "    .dataframe tbody tr th {\n",
       "        vertical-align: top;\n",
       "    }\n",
       "\n",
       "    .dataframe thead th {\n",
       "        text-align: right;\n",
       "    }\n",
       "</style>\n",
       "<table border=\"1\" class=\"dataframe\">\n",
       "  <thead>\n",
       "    <tr style=\"text-align: right;\">\n",
       "      <th></th>\n",
       "      <th>Roll</th>\n",
       "      <th>Name</th>\n",
       "      <th>Femarks</th>\n",
       "      <th>SEMarks</th>\n",
       "      <th>Temarks</th>\n",
       "      <th>Bemarks</th>\n",
       "    </tr>\n",
       "  </thead>\n",
       "  <tbody>\n",
       "    <tr>\n",
       "      <th>0</th>\n",
       "      <td>1</td>\n",
       "      <td>Aage Raksha Gajanan</td>\n",
       "      <td>8.40</td>\n",
       "      <td>8.60</td>\n",
       "      <td>9.80</td>\n",
       "      <td>9.90</td>\n",
       "    </tr>\n",
       "    <tr>\n",
       "      <th>1</th>\n",
       "      <td>2</td>\n",
       "      <td>Ahire Anuja Sanjay</td>\n",
       "      <td>8.14</td>\n",
       "      <td>8.14</td>\n",
       "      <td>9.32</td>\n",
       "      <td>9.82</td>\n",
       "    </tr>\n",
       "    <tr>\n",
       "      <th>2</th>\n",
       "      <td>3</td>\n",
       "      <td>Ajare Ashiya Nasaruddin</td>\n",
       "      <td>6.61</td>\n",
       "      <td>6.61</td>\n",
       "      <td>9.14</td>\n",
       "      <td>9.14</td>\n",
       "    </tr>\n",
       "    <tr>\n",
       "      <th>3</th>\n",
       "      <td>4</td>\n",
       "      <td>Amrutkar Roshani Suresh</td>\n",
       "      <td>7.20</td>\n",
       "      <td>7.30</td>\n",
       "      <td>8.90</td>\n",
       "      <td>10.00</td>\n",
       "    </tr>\n",
       "    <tr>\n",
       "      <th>4</th>\n",
       "      <td>5</td>\n",
       "      <td>Attarde Komal Bhagwan</td>\n",
       "      <td>7.05</td>\n",
       "      <td>7.45</td>\n",
       "      <td>9.05</td>\n",
       "      <td>9.40</td>\n",
       "    </tr>\n",
       "  </tbody>\n",
       "</table>\n",
       "</div>"
      ],
      "text/plain": [
       "   Roll                     Name  Femarks  SEMarks  Temarks  Bemarks\n",
       "0     1      Aage Raksha Gajanan     8.40     8.60     9.80     9.90\n",
       "1     2       Ahire Anuja Sanjay     8.14     8.14     9.32     9.82\n",
       "2     3  Ajare Ashiya Nasaruddin     6.61     6.61     9.14     9.14\n",
       "3     4  Amrutkar Roshani Suresh     7.20     7.30     8.90    10.00\n",
       "4     5    Attarde Komal Bhagwan     7.05     7.45     9.05     9.40"
      ]
     },
     "execution_count": 43,
     "metadata": {},
     "output_type": "execute_result"
    }
   ],
   "source": [
    "#filling the femarks col with mean\n",
    "stdd=data\n",
    "stdd['Temarks']=stdd['Temarks'].fillna(stdd['Temarks'].std())\n",
    "stdd.head()"
   ]
  },
  {
   "cell_type": "code",
   "execution_count": 44,
   "id": "de1258b0",
   "metadata": {},
   "outputs": [
    {
     "data": {
      "text/html": [
       "<div>\n",
       "<style scoped>\n",
       "    .dataframe tbody tr th:only-of-type {\n",
       "        vertical-align: middle;\n",
       "    }\n",
       "\n",
       "    .dataframe tbody tr th {\n",
       "        vertical-align: top;\n",
       "    }\n",
       "\n",
       "    .dataframe thead th {\n",
       "        text-align: right;\n",
       "    }\n",
       "</style>\n",
       "<table border=\"1\" class=\"dataframe\">\n",
       "  <thead>\n",
       "    <tr style=\"text-align: right;\">\n",
       "      <th></th>\n",
       "      <th>Roll</th>\n",
       "      <th>Name</th>\n",
       "      <th>Femarks</th>\n",
       "      <th>SEMarks</th>\n",
       "      <th>Temarks</th>\n",
       "      <th>Bemarks</th>\n",
       "    </tr>\n",
       "  </thead>\n",
       "  <tbody>\n",
       "    <tr>\n",
       "      <th>0</th>\n",
       "      <td>1</td>\n",
       "      <td>Aage Raksha Gajanan</td>\n",
       "      <td>8.40</td>\n",
       "      <td>8.60</td>\n",
       "      <td>9.80</td>\n",
       "      <td>9.90</td>\n",
       "    </tr>\n",
       "    <tr>\n",
       "      <th>1</th>\n",
       "      <td>2</td>\n",
       "      <td>Ahire Anuja Sanjay</td>\n",
       "      <td>8.14</td>\n",
       "      <td>8.14</td>\n",
       "      <td>9.32</td>\n",
       "      <td>9.82</td>\n",
       "    </tr>\n",
       "    <tr>\n",
       "      <th>2</th>\n",
       "      <td>3</td>\n",
       "      <td>Ajare Ashiya Nasaruddin</td>\n",
       "      <td>6.61</td>\n",
       "      <td>6.61</td>\n",
       "      <td>9.14</td>\n",
       "      <td>9.14</td>\n",
       "    </tr>\n",
       "    <tr>\n",
       "      <th>3</th>\n",
       "      <td>4</td>\n",
       "      <td>Amrutkar Roshani Suresh</td>\n",
       "      <td>7.20</td>\n",
       "      <td>7.30</td>\n",
       "      <td>8.90</td>\n",
       "      <td>10.00</td>\n",
       "    </tr>\n",
       "    <tr>\n",
       "      <th>4</th>\n",
       "      <td>5</td>\n",
       "      <td>Attarde Komal Bhagwan</td>\n",
       "      <td>7.05</td>\n",
       "      <td>7.45</td>\n",
       "      <td>9.05</td>\n",
       "      <td>9.40</td>\n",
       "    </tr>\n",
       "  </tbody>\n",
       "</table>\n",
       "</div>"
      ],
      "text/plain": [
       "   Roll                     Name  Femarks  SEMarks  Temarks  Bemarks\n",
       "0     1      Aage Raksha Gajanan     8.40     8.60     9.80     9.90\n",
       "1     2       Ahire Anuja Sanjay     8.14     8.14     9.32     9.82\n",
       "2     3  Ajare Ashiya Nasaruddin     6.61     6.61     9.14     9.14\n",
       "3     4  Amrutkar Roshani Suresh     7.20     7.30     8.90    10.00\n",
       "4     5    Attarde Komal Bhagwan     7.05     7.45     9.05     9.40"
      ]
     },
     "execution_count": 44,
     "metadata": {},
     "output_type": "execute_result"
    }
   ],
   "source": [
    "maxi=data\n",
    "maxi['Bemarks']=maxi['Bemarks'].fillna(maxi['Bemarks'].max())\n",
    "maxi.head()"
   ]
  },
  {
   "cell_type": "code",
   "execution_count": 45,
   "id": "1052e93b",
   "metadata": {},
   "outputs": [
    {
     "data": {
      "text/plain": [
       "Roll       0\n",
       "Name       0\n",
       "Femarks    0\n",
       "SEMarks    0\n",
       "Temarks    0\n",
       "Bemarks    0\n",
       "dtype: int64"
      ]
     },
     "execution_count": 45,
     "metadata": {},
     "output_type": "execute_result"
    }
   ],
   "source": [
    "data.isnull().sum()"
   ]
  },
  {
   "cell_type": "code",
   "execution_count": 46,
   "id": "6cbd9a8f",
   "metadata": {},
   "outputs": [],
   "source": [
    "#all filling the null value is completed"
   ]
  },
  {
   "cell_type": "markdown",
   "id": "9778c208",
   "metadata": {},
   "source": [
    "OUTLIERS FINDING AND REMOVING"
   ]
  },
  {
   "cell_type": "code",
   "execution_count": 50,
   "id": "fc5a1624",
   "metadata": {},
   "outputs": [
    {
     "data": {
      "text/plain": [
       "Index(['Roll', 'Name', 'Femarks', 'SEMarks', 'Temarks', 'Bemarks'], dtype='object')"
      ]
     },
     "execution_count": 50,
     "metadata": {},
     "output_type": "execute_result"
    }
   ],
   "source": [
    "#detecting outliers using boxplot\n",
    "data.columns"
   ]
  },
  {
   "cell_type": "code",
   "execution_count": 51,
   "id": "aa7fb8f6",
   "metadata": {},
   "outputs": [],
   "source": [
    "cols=['Femarks', 'SEMarks', 'Temarks', 'Bemarks']"
   ]
  },
  {
   "cell_type": "code",
   "execution_count": 63,
   "id": "5f725a39",
   "metadata": {},
   "outputs": [
    {
     "data": {
      "text/plain": [
       "<Axes: >"
      ]
     },
     "execution_count": 63,
     "metadata": {},
     "output_type": "execute_result"
    },
    {
     "data": {
      "image/png": "[encoded data removed]",
      "text/plain": [
       "<Figure size 640x480 with 1 Axes>"
      ]
     },
     "metadata": {},
     "output_type": "display_data"
    }
   ],
   "source": [
    "data.boxplot(cols)"
   ]
  },
  {
   "cell_type": "markdown",
   "id": "80b4c8ec",
   "metadata": {},
   "source": [
    "Detecting outliers using IQR"
   ]
  },
  {
   "cell_type": "code",
   "execution_count": 53,
   "id": "64b43223",
   "metadata": {},
   "outputs": [],
   "source": [
    "sortedte=sorted(data['Temarks'])"
   ]
  },
  {
   "cell_type": "code",
   "execution_count": 57,
   "id": "121de8f9",
   "metadata": {},
   "outputs": [],
   "source": [
    "q1=np.percentile(sortedte,25)\n",
    "q3=np.percentile(sortedte,75)"
   ]
  },
  {
   "cell_type": "code",
   "execution_count": 58,
   "id": "82e4c001",
   "metadata": {},
   "outputs": [],
   "source": [
    "IQR=q3-q1\n",
    "lwrbound=q1-1.5*IQR\n",
    "uprbound=q3+1.5*IQR"
   ]
  },
  {
   "cell_type": "code",
   "execution_count": 60,
   "id": "0c8e8166",
   "metadata": {},
   "outputs": [],
   "source": [
    "te_outliers=[]\n",
    "for i in sortedte:\n",
    "    if i<lwrbound or i>uprbound:\n",
    "        te_outliers.append(i)"
   ]
  },
  {
   "cell_type": "code",
   "execution_count": 61,
   "id": "b2cd30c0",
   "metadata": {},
   "outputs": [
    {
     "data": {
      "text/plain": [
       "[0.7100421041013885, 5.0, 7.91]"
      ]
     },
     "execution_count": 61,
     "metadata": {},
     "output_type": "execute_result"
    }
   ],
   "source": [
    "te_outliers"
   ]
  },
  {
   "cell_type": "code",
   "execution_count": 64,
   "id": "b8759974",
   "metadata": {},
   "outputs": [],
   "source": [
    "#handling the outliers"
   ]
  },
  {
   "cell_type": "code",
   "execution_count": 70,
   "id": "65081949",
   "metadata": {},
   "outputs": [
    {
     "data": {
      "text/plain": [
       "<Axes: >"
      ]
     },
     "execution_count": 70,
     "metadata": {},
     "output_type": "execute_result"
    },
    {
     "data": {
      "image/png": "[encoded data removed]",
      "text/plain": [
       "<Figure size 640x480 with 1 Axes>"
      ]
     },
     "metadata": {},
     "output_type": "display_data"
    }
   ],
   "source": [
    "data.boxplot('Temarks')"
   ]
  },
  {
   "cell_type": "code",
   "execution_count": 73,
   "id": "5a714b5c",
   "metadata": {},
   "outputs": [],
   "source": [
    "mediana=np.median(sortedte)"
   ]
  },
  {
   "cell_type": "code",
   "execution_count": 74,
   "id": "a91ea7dc",
   "metadata": {},
   "outputs": [
    {
     "data": {
      "text/plain": [
       "9.475"
      ]
     },
     "execution_count": 74,
     "metadata": {},
     "output_type": "execute_result"
    }
   ],
   "source": [
    "mediana"
   ]
  },
  {
   "cell_type": "code",
   "execution_count": 75,
   "id": "5471fe76",
   "metadata": {},
   "outputs": [],
   "source": [
    "refined_df=data"
   ]
  },
  {
   "cell_type": "code",
   "execution_count": 76,
   "id": "9bf69b27",
   "metadata": {},
   "outputs": [],
   "source": [
    "refined_df['Temarks']=np.where(refined_df['Temarks']<lwrbound,mediana,refined_df['Temarks'])"
   ]
  },
  {
   "cell_type": "code",
   "execution_count": 77,
   "id": "4015a9a4",
   "metadata": {},
   "outputs": [],
   "source": [
    "refined_df['Temarks']=np.where(refined_df['Temarks']>uprbound,mediana,refined_df['Temarks'])"
   ]
  },
  {
   "cell_type": "code",
   "execution_count": 80,
   "id": "20c6e328",
   "metadata": {},
   "outputs": [
    {
     "data": {
      "text/plain": [
       "<Axes: >"
      ]
     },
     "execution_count": 80,
     "metadata": {},
     "output_type": "execute_result"
    },
    {
     "data": {
      "image/png": "[encoded data removed]",
      "text/plain": [
       "<Figure size 640x480 with 1 Axes>"
      ]
     },
     "metadata": {},
     "output_type": "display_data"
    }
   ],
   "source": [
    "refined_df.boxplot('Temarks')"
   ]
  },
  {
   "cell_type": "code",
   "execution_count": 81,
   "id": "1bb4f1c6",
   "metadata": {},
   "outputs": [],
   "source": [
    "#handling the outliers completed"
   ]
  },
  {
   "cell_type": "code",
   "execution_count": 82,
   "id": "b1c1d19e",
   "metadata": {},
   "outputs": [
    {
     "data": {
      "text/plain": [
       "<Axes: ylabel='Frequency'>"
      ]
     },
     "execution_count": 82,
     "metadata": {},
     "output_type": "execute_result"
    },
    {
     "data": {
      "image/png": "[encoded data removed]",
      "text/plain": [
       "<Figure size 640x480 with 1 Axes>"
      ]
     },
     "metadata": {},
     "output_type": "display_data"
    }
   ],
   "source": [
    "data['Temarks'].plot(kind = 'hist')"
   ]
  },
  {
   "cell_type": "code",
   "execution_count": 83,
   "id": "9a596599",
   "metadata": {},
   "outputs": [],
   "source": [
    "data['log_math'] = np.log10(data['Temarks'])"
   ]
  },
  {
   "cell_type": "code",
   "execution_count": 84,
   "id": "b96343c8",
   "metadata": {},
   "outputs": [
    {
     "data": {
      "text/plain": [
       "<Axes: ylabel='Frequency'>"
      ]
     },
     "execution_count": 84,
     "metadata": {},
     "output_type": "execute_result"
    },
    {
     "data": {
      "image/png": "[encoded data removed]",
      "text/plain": [
       "<Figure size 640x480 with 1 Axes>"
      ]
     },
     "metadata": {},
     "output_type": "display_data"
    }
   ],
   "source": [
    "data['log_math'].plot(kind = 'hist')"
   ]
  },
  {
   "cell_type": "code",
   "execution_count": null,
   "id": "e18c6a67",
   "metadata": {},
   "outputs": [],
   "source": []
  }
 ],
 "metadata": {
  "kernelspec": {
   "display_name": "Python 3 (ipykernel)",
   "language": "python",
   "name": "python3"
  },
  "language_info": {
   "codemirror_mode": {
    "name": "ipython",
    "version": 3
   },
   "file_extension": ".py",
   "mimetype": "text/x-python",
   "name": "python",
   "nbconvert_exporter": "python",
   "pygments_lexer": "ipython3",
   "version": "3.11.5"
  }
 },
 "nbformat": 4,
 "nbformat_minor": 5
}
