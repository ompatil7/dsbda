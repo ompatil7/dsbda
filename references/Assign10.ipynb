{
 "cells": [
  {
   "cell_type": "markdown",
   "id": "3a101610-522e-4892-9093-9b59af223d48",
   "metadata": {},
   "source": [
    "Assign 10\n",
    "Text Analytics\n",
    "1. Extract Sample document and apply following document preprocessing methods:\n",
    "Tokenization, POS Tagging, stop words removal, Stemming and Lemmatization.\n",
    "2. Create representation of document by calculating Term Frequency and Inverse Document \n",
    "Frequency."
   ]
  },
  {
   "cell_type": "markdown",
   "id": "85cef9ed-8fe9-4290-945a-bf21df453775",
   "metadata": {},
   "source": [
    "Task 2: Term Frequency and Inverse Document Frequency (TF-IDF)\n",
    "TF-IDF is a numerical statistic that reflects the importance of a word in a document relative to a collection of documents. You can use libraries like scikit-learn to calculate TF-IDF."
   ]
  },
  {
   "cell_type": "code",
   "execution_count": 3,
   "id": "2bfb9a30-040f-4eda-a54a-cb5da393180c",
   "metadata": {},
   "outputs": [],
   "source": [
    "document = \"Text analytics is the process of deriving insights from text data. It involves various techniques such as tokenization, POS tagging, stop words removal, stemming, and lemmatization.\""
   ]
  },
  {
   "cell_type": "code",
   "execution_count": 17,
   "id": "3ca88bf4-c159-4bce-afed-6c551bd53f07",
   "metadata": {},
   "outputs": [],
   "source": [
    "import nltk\n",
    "from nltk.tokenize import word_tokenize\n",
    "from nltk.stem import PorterStemmer, WordNetLemmatizer\n",
    "from nltk import pos_tag\n",
    "from nltk.corpus import stopwords\n",
    "from nltk.corpus import wordnet"
   ]
  },
  {
   "cell_type": "code",
   "execution_count": 18,
   "id": "28d0301b-1d2c-4d5b-8c14-1c90a03a5650",
   "metadata": {},
   "outputs": [
    {
     "name": "stderr",
     "output_type": "stream",
     "text": [
      "[nltk_data] Downloading package punkt to\n",
      "[nltk_data]     C:\\Users\\ompat\\AppData\\Roaming\\nltk_data...\n",
      "[nltk_data]   Package punkt is already up-to-date!\n"
     ]
    },
    {
     "data": {
      "text/plain": [
       "True"
      ]
     },
     "execution_count": 18,
     "metadata": {},
     "output_type": "execute_result"
    }
   ],
   "source": [
    "nltk.download('punkt')"
   ]
  },
  {
   "cell_type": "code",
   "execution_count": 20,
   "id": "a8fdcd30-545d-416b-9ccf-7f40b59b471a",
   "metadata": {},
   "outputs": [
    {
     "data": {
      "text/plain": [
       "['Text',\n",
       " 'analytics',\n",
       " 'is',\n",
       " 'the',\n",
       " 'process',\n",
       " 'of',\n",
       " 'deriving',\n",
       " 'insights',\n",
       " 'from',\n",
       " 'text',\n",
       " 'data',\n",
       " '.',\n",
       " 'It',\n",
       " 'involves',\n",
       " 'various',\n",
       " 'techniques',\n",
       " 'such',\n",
       " 'as',\n",
       " 'tokenization',\n",
       " ',',\n",
       " 'POS',\n",
       " 'tagging',\n",
       " ',',\n",
       " 'stop',\n",
       " 'words',\n",
       " 'removal',\n",
       " ',',\n",
       " 'stemming',\n",
       " ',',\n",
       " 'and',\n",
       " 'lemmatization',\n",
       " '.']"
      ]
     },
     "execution_count": 20,
     "metadata": {},
     "output_type": "execute_result"
    }
   ],
   "source": [
    "tokens = word_tokenize(document)\n",
    "tokens"
   ]
  },
  {
   "cell_type": "code",
   "execution_count": 21,
   "id": "17b9b733-a7d0-4fc2-9df5-9c1ff45fff99",
   "metadata": {},
   "outputs": [
    {
     "data": {
      "text/plain": [
       "[('Text', 'NN'),\n",
       " ('analytics', 'NNS'),\n",
       " ('is', 'VBZ'),\n",
       " ('the', 'DT'),\n",
       " ('process', 'NN'),\n",
       " ('of', 'IN'),\n",
       " ('deriving', 'VBG'),\n",
       " ('insights', 'NNS'),\n",
       " ('from', 'IN'),\n",
       " ('text', 'NN'),\n",
       " ('data', 'NNS'),\n",
       " ('.', '.'),\n",
       " ('It', 'PRP'),\n",
       " ('involves', 'VBZ'),\n",
       " ('various', 'JJ'),\n",
       " ('techniques', 'NNS'),\n",
       " ('such', 'JJ'),\n",
       " ('as', 'IN'),\n",
       " ('tokenization', 'NN'),\n",
       " (',', ','),\n",
       " ('POS', 'NNP'),\n",
       " ('tagging', 'NN'),\n",
       " (',', ','),\n",
       " ('stop', 'VB'),\n",
       " ('words', 'NNS'),\n",
       " ('removal', 'JJ'),\n",
       " (',', ','),\n",
       " ('stemming', 'VBG'),\n",
       " (',', ','),\n",
       " ('and', 'CC'),\n",
       " ('lemmatization', 'NN'),\n",
       " ('.', '.')]"
      ]
     },
     "execution_count": 21,
     "metadata": {},
     "output_type": "execute_result"
    }
   ],
   "source": [
    "pos_tags = pos_tag(tokens)\n",
    "pos_tags"
   ]
  },
  {
   "cell_type": "code",
   "execution_count": 22,
   "id": "518ef72c-c754-4cb8-97dc-f80d2d0897b5",
   "metadata": {},
   "outputs": [
    {
     "name": "stderr",
     "output_type": "stream",
     "text": [
      "[nltk_data] Downloading package stopwords to\n",
      "[nltk_data]     C:\\Users\\ompat\\AppData\\Roaming\\nltk_data...\n",
      "[nltk_data]   Package stopwords is already up-to-date!\n"
     ]
    },
    {
     "data": {
      "text/plain": [
       "True"
      ]
     },
     "execution_count": 22,
     "metadata": {},
     "output_type": "execute_result"
    }
   ],
   "source": [
    "nltk.download('stopwords')"
   ]
  },
  {
   "cell_type": "code",
   "execution_count": 23,
   "id": "75120d1e-b551-4bcb-a070-c881bc096ea0",
   "metadata": {},
   "outputs": [
    {
     "data": {
      "text/plain": [
       "['Text',\n",
       " 'analytics',\n",
       " 'process',\n",
       " 'deriving',\n",
       " 'insights',\n",
       " 'text',\n",
       " 'data',\n",
       " '.',\n",
       " 'involves',\n",
       " 'various',\n",
       " 'techniques',\n",
       " 'tokenization',\n",
       " ',',\n",
       " 'POS',\n",
       " 'tagging',\n",
       " ',',\n",
       " 'stop',\n",
       " 'words',\n",
       " 'removal',\n",
       " ',',\n",
       " 'stemming',\n",
       " ',',\n",
       " 'lemmatization',\n",
       " '.']"
      ]
     },
     "execution_count": 23,
     "metadata": {},
     "output_type": "execute_result"
    }
   ],
   "source": [
    "stop_words = set(stopwords.words('english'))\n",
    "filtered = [word for word in tokens if word.lower() not in stop_words]\n",
    "filtered"
   ]
  },
  {
   "cell_type": "code",
   "execution_count": 24,
   "id": "01a04a4e-0bd0-4d77-b505-0d14356b8236",
   "metadata": {},
   "outputs": [
    {
     "data": {
      "text/plain": [
       "['text',\n",
       " 'analyt',\n",
       " 'process',\n",
       " 'deriv',\n",
       " 'insight',\n",
       " 'text',\n",
       " 'data',\n",
       " '.',\n",
       " 'involv',\n",
       " 'variou',\n",
       " 'techniqu',\n",
       " 'token',\n",
       " ',',\n",
       " 'po',\n",
       " 'tag',\n",
       " ',',\n",
       " 'stop',\n",
       " 'word',\n",
       " 'remov',\n",
       " ',',\n",
       " 'stem',\n",
       " ',',\n",
       " 'lemmat',\n",
       " '.']"
      ]
     },
     "execution_count": 24,
     "metadata": {},
     "output_type": "execute_result"
    }
   ],
   "source": [
    "stemmer = PorterStemmer()\n",
    "stem_tokens = [stemmer.stem(word) for word in filtered]\n",
    "stem_tokens"
   ]
  },
  {
   "cell_type": "code",
   "execution_count": 25,
   "id": "8e084a47-30fe-492d-a8fd-c069a16083c8",
   "metadata": {},
   "outputs": [
    {
     "name": "stderr",
     "output_type": "stream",
     "text": [
      "[nltk_data] Downloading package wordnet to\n",
      "[nltk_data]     C:\\Users\\ompat\\AppData\\Roaming\\nltk_data...\n",
      "[nltk_data]   Package wordnet is already up-to-date!\n"
     ]
    },
    {
     "data": {
      "text/plain": [
       "True"
      ]
     },
     "execution_count": 25,
     "metadata": {},
     "output_type": "execute_result"
    }
   ],
   "source": [
    "nltk.download('wordnet')"
   ]
  },
  {
   "cell_type": "code",
   "execution_count": 26,
   "id": "8bcc6865-4cae-4ee1-aae3-720564d7f493",
   "metadata": {},
   "outputs": [
    {
     "data": {
      "text/plain": [
       "['Text',\n",
       " 'analytics',\n",
       " 'process',\n",
       " 'derive',\n",
       " 'insights',\n",
       " 'text',\n",
       " 'data',\n",
       " '.',\n",
       " 'involve',\n",
       " 'various',\n",
       " 'techniques',\n",
       " 'tokenization',\n",
       " ',',\n",
       " 'POS',\n",
       " 'tag',\n",
       " ',',\n",
       " 'stop',\n",
       " 'word',\n",
       " 'removal',\n",
       " ',',\n",
       " 'stem',\n",
       " ',',\n",
       " 'lemmatization',\n",
       " '.']"
      ]
     },
     "execution_count": 26,
     "metadata": {},
     "output_type": "execute_result"
    }
   ],
   "source": [
    "lemmatizer = WordNetLemmatizer()\n",
    "lem_tokens = [lemmatizer.lemmatize(word, pos=wordnet.VERB) for word in filtered]\n",
    "lem_tokens"
   ]
  },
  {
   "cell_type": "code",
   "execution_count": 27,
   "id": "c11a78fe-5303-4b3a-842a-a631b779a298",
   "metadata": {},
   "outputs": [],
   "source": [
    "from sklearn.feature_extraction.text import TfidfVectorizer"
   ]
  },
  {
   "cell_type": "code",
   "execution_count": 28,
   "id": "9896b3f3-5e87-4c88-a50f-c3c32ddd3c2b",
   "metadata": {},
   "outputs": [],
   "source": [
    "tfidf = TfidfVectorizer()"
   ]
  },
  {
   "cell_type": "code",
   "execution_count": 29,
   "id": "5ce089dc-978b-4ecd-9d55-86f5fbfc9873",
   "metadata": {},
   "outputs": [],
   "source": [
    "documents = [document]"
   ]
  },
  {
   "cell_type": "code",
   "execution_count": 30,
   "id": "f345c265-aff0-40e2-82c8-faccd220072a",
   "metadata": {},
   "outputs": [],
   "source": [
    "tfidf_matrix = tfidf.fit_transform(documents)"
   ]
  },
  {
   "cell_type": "code",
   "execution_count": 31,
   "id": "b37104ba-04a6-4fe9-ad8d-b6a6c6b63ac4",
   "metadata": {},
   "outputs": [],
   "source": [
    "feature_names = tfidf.get_feature_names_out()"
   ]
  },
  {
   "cell_type": "code",
   "execution_count": 32,
   "id": "26d8a001-abe4-4c52-a1a7-e27d4d0c17ce",
   "metadata": {},
   "outputs": [
    {
     "name": "stdout",
     "output_type": "stream",
     "text": [
      "lemmatization : 0.1889822365046136\n",
      "and : 0.1889822365046136\n",
      "stemming : 0.1889822365046136\n",
      "removal : 0.1889822365046136\n",
      "words : 0.1889822365046136\n",
      "stop : 0.1889822365046136\n",
      "tagging : 0.1889822365046136\n",
      "pos : 0.1889822365046136\n",
      "tokenization : 0.1889822365046136\n",
      "as : 0.1889822365046136\n",
      "such : 0.1889822365046136\n",
      "techniques : 0.1889822365046136\n",
      "various : 0.1889822365046136\n",
      "involves : 0.1889822365046136\n",
      "it : 0.1889822365046136\n",
      "data : 0.1889822365046136\n",
      "from : 0.1889822365046136\n",
      "insights : 0.1889822365046136\n",
      "deriving : 0.1889822365046136\n",
      "of : 0.1889822365046136\n",
      "process : 0.1889822365046136\n",
      "the : 0.1889822365046136\n",
      "is : 0.1889822365046136\n",
      "analytics : 0.1889822365046136\n",
      "text : 0.3779644730092272\n"
     ]
    }
   ],
   "source": [
    "for col in tfidf_matrix.nonzero()[1]:\n",
    "    print(f\"{feature_names[col]} : {tfidf_matrix[0, col]}\")"
   ]
  },
  {
   "cell_type": "code",
   "execution_count": 37,
   "id": "8b07e2b9-abab-42f4-92be-91166c35a3f4",
   "metadata": {},
   "outputs": [
    {
     "name": "stdout",
     "output_type": "stream",
     "text": [
      "lemmatization : 0.1889822365046136\n",
      "and : 0.1889822365046136\n",
      "stemming : 0.1889822365046136\n",
      "removal : 0.1889822365046136\n",
      "words : 0.1889822365046136\n",
      "stop : 0.1889822365046136\n",
      "tagging : 0.1889822365046136\n",
      "pos : 0.1889822365046136\n",
      "tokenization : 0.1889822365046136\n",
      "as : 0.1889822365046136\n",
      "such : 0.1889822365046136\n",
      "techniques : 0.1889822365046136\n",
      "various : 0.1889822365046136\n",
      "involves : 0.1889822365046136\n",
      "it : 0.1889822365046136\n",
      "data : 0.1889822365046136\n",
      "from : 0.1889822365046136\n",
      "insights : 0.1889822365046136\n",
      "deriving : 0.1889822365046136\n",
      "of : 0.1889822365046136\n",
      "process : 0.1889822365046136\n",
      "the : 0.1889822365046136\n",
      "is : 0.1889822365046136\n",
      "analytics : 0.1889822365046136\n",
      "text : 0.3779644730092272\n"
     ]
    }
   ],
   "source": [
    "for col in tfidf_matrix.nonzero()[1]:\n",
    "    print(f\"{feature_names[col]} : {tfidf_matrix[0, col]}\")"
   ]
  },
  {
   "cell_type": "code",
   "execution_count": null,
   "id": "7fe93aa0-6645-41c9-83bc-d0d10b71fa49",
   "metadata": {},
   "outputs": [],
   "source": []
  }
 ],
 "metadata": {
  "kernelspec": {
   "display_name": "Python 3 (ipykernel)",
   "language": "python",
   "name": "python3"
  },
  "language_info": {
   "codemirror_mode": {
    "name": "ipython",
    "version": 3
   },
   "file_extension": ".py",
   "mimetype": "text/x-python",
   "name": "python",
   "nbconvert_exporter": "python",
   "pygments_lexer": "ipython3",
   "version": "3.11.7"
  }
 },
 "nbformat": 4,
 "nbformat_minor": 5
}
